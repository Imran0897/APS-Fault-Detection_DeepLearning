{
  "nbformat": 4,
  "nbformat_minor": 0,
  "metadata": {
    "colab": {
      "provenance": [],
      "authorship_tag": "ABX9TyP/OmwzcUkZNgBaead8Jesi",
      "include_colab_link": true
    },
    "kernelspec": {
      "name": "python3",
      "display_name": "Python 3"
    },
    "language_info": {
      "name": "python"
    },
    "accelerator": "GPU",
    "gpuClass": "standard"
  },
  "cells": [
    {
      "cell_type": "markdown",
      "metadata": {
        "id": "view-in-github",
        "colab_type": "text"
      },
      "source": [
        "<a href=\"https://colab.research.google.com/github/Imran0897/APS-Fault-Detection_DeepLearning/blob/main/aps_DeepLearning.ipynb\" target=\"_parent\"><img src=\"https://colab.research.google.com/assets/colab-badge.svg\" alt=\"Open In Colab\"/></a>"
      ]
    },
    {
      "cell_type": "code",
      "execution_count": null,
      "metadata": {
        "id": "qGxI54N7fedA"
      },
      "outputs": [],
      "source": [
        "import tensorflow \n",
        "import pandas as pd\n",
        "import numpy as np\n",
        "import matplotlib.pyplot as plt"
      ]
    },
    {
      "cell_type": "code",
      "source": [
        "from google.colab import files\n",
        "uploades = files.upload()"
      ],
      "metadata": {
        "colab": {
          "base_uri": "https://localhost:8080/",
          "height": 73
        },
        "id": "4VoguN3JhSl7",
        "outputId": "4f21782e-de73-4aba-c522-a99b5a29c06b"
      },
      "execution_count": null,
      "outputs": [
        {
          "output_type": "display_data",
          "data": {
            "text/plain": [
              "<IPython.core.display.HTML object>"
            ],
            "text/html": [
              "\n",
              "     <input type=\"file\" id=\"files-da8d8026-ebaf-4f38-94d0-45e9638fd8b5\" name=\"files[]\" multiple disabled\n",
              "        style=\"border:none\" />\n",
              "     <output id=\"result-da8d8026-ebaf-4f38-94d0-45e9638fd8b5\">\n",
              "      Upload widget is only available when the cell has been executed in the\n",
              "      current browser session. Please rerun this cell to enable.\n",
              "      </output>\n",
              "      <script>// Copyright 2017 Google LLC\n",
              "//\n",
              "// Licensed under the Apache License, Version 2.0 (the \"License\");\n",
              "// you may not use this file except in compliance with the License.\n",
              "// You may obtain a copy of the License at\n",
              "//\n",
              "//      http://www.apache.org/licenses/LICENSE-2.0\n",
              "//\n",
              "// Unless required by applicable law or agreed to in writing, software\n",
              "// distributed under the License is distributed on an \"AS IS\" BASIS,\n",
              "// WITHOUT WARRANTIES OR CONDITIONS OF ANY KIND, either express or implied.\n",
              "// See the License for the specific language governing permissions and\n",
              "// limitations under the License.\n",
              "\n",
              "/**\n",
              " * @fileoverview Helpers for google.colab Python module.\n",
              " */\n",
              "(function(scope) {\n",
              "function span(text, styleAttributes = {}) {\n",
              "  const element = document.createElement('span');\n",
              "  element.textContent = text;\n",
              "  for (const key of Object.keys(styleAttributes)) {\n",
              "    element.style[key] = styleAttributes[key];\n",
              "  }\n",
              "  return element;\n",
              "}\n",
              "\n",
              "// Max number of bytes which will be uploaded at a time.\n",
              "const MAX_PAYLOAD_SIZE = 100 * 1024;\n",
              "\n",
              "function _uploadFiles(inputId, outputId) {\n",
              "  const steps = uploadFilesStep(inputId, outputId);\n",
              "  const outputElement = document.getElementById(outputId);\n",
              "  // Cache steps on the outputElement to make it available for the next call\n",
              "  // to uploadFilesContinue from Python.\n",
              "  outputElement.steps = steps;\n",
              "\n",
              "  return _uploadFilesContinue(outputId);\n",
              "}\n",
              "\n",
              "// This is roughly an async generator (not supported in the browser yet),\n",
              "// where there are multiple asynchronous steps and the Python side is going\n",
              "// to poll for completion of each step.\n",
              "// This uses a Promise to block the python side on completion of each step,\n",
              "// then passes the result of the previous step as the input to the next step.\n",
              "function _uploadFilesContinue(outputId) {\n",
              "  const outputElement = document.getElementById(outputId);\n",
              "  const steps = outputElement.steps;\n",
              "\n",
              "  const next = steps.next(outputElement.lastPromiseValue);\n",
              "  return Promise.resolve(next.value.promise).then((value) => {\n",
              "    // Cache the last promise value to make it available to the next\n",
              "    // step of the generator.\n",
              "    outputElement.lastPromiseValue = value;\n",
              "    return next.value.response;\n",
              "  });\n",
              "}\n",
              "\n",
              "/**\n",
              " * Generator function which is called between each async step of the upload\n",
              " * process.\n",
              " * @param {string} inputId Element ID of the input file picker element.\n",
              " * @param {string} outputId Element ID of the output display.\n",
              " * @return {!Iterable<!Object>} Iterable of next steps.\n",
              " */\n",
              "function* uploadFilesStep(inputId, outputId) {\n",
              "  const inputElement = document.getElementById(inputId);\n",
              "  inputElement.disabled = false;\n",
              "\n",
              "  const outputElement = document.getElementById(outputId);\n",
              "  outputElement.innerHTML = '';\n",
              "\n",
              "  const pickedPromise = new Promise((resolve) => {\n",
              "    inputElement.addEventListener('change', (e) => {\n",
              "      resolve(e.target.files);\n",
              "    });\n",
              "  });\n",
              "\n",
              "  const cancel = document.createElement('button');\n",
              "  inputElement.parentElement.appendChild(cancel);\n",
              "  cancel.textContent = 'Cancel upload';\n",
              "  const cancelPromise = new Promise((resolve) => {\n",
              "    cancel.onclick = () => {\n",
              "      resolve(null);\n",
              "    };\n",
              "  });\n",
              "\n",
              "  // Wait for the user to pick the files.\n",
              "  const files = yield {\n",
              "    promise: Promise.race([pickedPromise, cancelPromise]),\n",
              "    response: {\n",
              "      action: 'starting',\n",
              "    }\n",
              "  };\n",
              "\n",
              "  cancel.remove();\n",
              "\n",
              "  // Disable the input element since further picks are not allowed.\n",
              "  inputElement.disabled = true;\n",
              "\n",
              "  if (!files) {\n",
              "    return {\n",
              "      response: {\n",
              "        action: 'complete',\n",
              "      }\n",
              "    };\n",
              "  }\n",
              "\n",
              "  for (const file of files) {\n",
              "    const li = document.createElement('li');\n",
              "    li.append(span(file.name, {fontWeight: 'bold'}));\n",
              "    li.append(span(\n",
              "        `(${file.type || 'n/a'}) - ${file.size} bytes, ` +\n",
              "        `last modified: ${\n",
              "            file.lastModifiedDate ? file.lastModifiedDate.toLocaleDateString() :\n",
              "                                    'n/a'} - `));\n",
              "    const percent = span('0% done');\n",
              "    li.appendChild(percent);\n",
              "\n",
              "    outputElement.appendChild(li);\n",
              "\n",
              "    const fileDataPromise = new Promise((resolve) => {\n",
              "      const reader = new FileReader();\n",
              "      reader.onload = (e) => {\n",
              "        resolve(e.target.result);\n",
              "      };\n",
              "      reader.readAsArrayBuffer(file);\n",
              "    });\n",
              "    // Wait for the data to be ready.\n",
              "    let fileData = yield {\n",
              "      promise: fileDataPromise,\n",
              "      response: {\n",
              "        action: 'continue',\n",
              "      }\n",
              "    };\n",
              "\n",
              "    // Use a chunked sending to avoid message size limits. See b/62115660.\n",
              "    let position = 0;\n",
              "    do {\n",
              "      const length = Math.min(fileData.byteLength - position, MAX_PAYLOAD_SIZE);\n",
              "      const chunk = new Uint8Array(fileData, position, length);\n",
              "      position += length;\n",
              "\n",
              "      const base64 = btoa(String.fromCharCode.apply(null, chunk));\n",
              "      yield {\n",
              "        response: {\n",
              "          action: 'append',\n",
              "          file: file.name,\n",
              "          data: base64,\n",
              "        },\n",
              "      };\n",
              "\n",
              "      let percentDone = fileData.byteLength === 0 ?\n",
              "          100 :\n",
              "          Math.round((position / fileData.byteLength) * 100);\n",
              "      percent.textContent = `${percentDone}% done`;\n",
              "\n",
              "    } while (position < fileData.byteLength);\n",
              "  }\n",
              "\n",
              "  // All done.\n",
              "  yield {\n",
              "    response: {\n",
              "      action: 'complete',\n",
              "    }\n",
              "  };\n",
              "}\n",
              "\n",
              "scope.google = scope.google || {};\n",
              "scope.google.colab = scope.google.colab || {};\n",
              "scope.google.colab._files = {\n",
              "  _uploadFiles,\n",
              "  _uploadFilesContinue,\n",
              "};\n",
              "})(self);\n",
              "</script> "
            ]
          },
          "metadata": {}
        },
        {
          "output_type": "stream",
          "name": "stdout",
          "text": [
            "Saving aps_data.csv to aps_data.csv\n"
          ]
        }
      ]
    },
    {
      "cell_type": "code",
      "source": [
        "tensorflow.__version__"
      ],
      "metadata": {
        "colab": {
          "base_uri": "https://localhost:8080/",
          "height": 36
        },
        "id": "cobgAAJEhKV3",
        "outputId": "705411b9-5d3c-466c-bf70-18125063be28"
      },
      "execution_count": null,
      "outputs": [
        {
          "output_type": "execute_result",
          "data": {
            "text/plain": [
              "'2.9.2'"
            ],
            "application/vnd.google.colaboratory.intrinsic+json": {
              "type": "string"
            }
          },
          "metadata": {},
          "execution_count": 2
        }
      ]
    },
    {
      "cell_type": "code",
      "source": [
        "df = pd.read_csv('aps_data.csv')"
      ],
      "metadata": {
        "colab": {
          "base_uri": "https://localhost:8080/"
        },
        "id": "LWQj6N1gccmy",
        "outputId": "4589f7a5-edf4-40a9-c6bd-b355108ed41f"
      },
      "execution_count": null,
      "outputs": [
        {
          "output_type": "stream",
          "name": "stderr",
          "text": [
            "/usr/local/lib/python3.8/dist-packages/IPython/core/interactiveshell.py:3326: DtypeWarning: Columns (81) have mixed types.Specify dtype option on import or set low_memory=False.\n",
            "  exec(code_obj, self.user_global_ns, self.user_ns)\n"
          ]
        }
      ]
    },
    {
      "cell_type": "code",
      "source": [
        "df"
      ],
      "metadata": {
        "colab": {
          "base_uri": "https://localhost:8080/",
          "height": 423
        },
        "id": "QFK245ZHeWPY",
        "outputId": "90a0df1b-b007-456d-b605-b79935b04167"
      },
      "execution_count": null,
      "outputs": [
        {
          "output_type": "execute_result",
          "data": {
            "text/plain": [
              "     class  aa_000 ab_000      ac_000 ad_000 ae_000 af_000 ag_000 ag_001  \\\n",
              "0      neg       6      0           0      0      0      0      0      0   \n",
              "1      neg      90      0           0     66      0      0      0      0   \n",
              "2      neg      30     na          16     14      0      0      0      0   \n",
              "3      neg     444     na          14     12      0      0      0      0   \n",
              "4      neg      82     na          12     10      0      0      0      0   \n",
              "...    ...     ...    ...         ...    ...    ...    ...    ...    ...   \n",
              "4995   neg   31394     na           0     na      0      0      0      0   \n",
              "4996   neg    1598     na           0     na      0      0      0      0   \n",
              "4997   neg      42      2  2130706454     56      0      0      0      0   \n",
              "4998   neg   32752     na           0     na      0      0      0      0   \n",
              "4999   neg     616      6          58     54      0      0      0      0   \n",
              "\n",
              "     ag_002  ...  ee_002  ee_003  ee_004  ee_005  ee_006 ee_007 ee_008 ee_009  \\\n",
              "0         0  ...      26       8      26      52       0      0      0      0   \n",
              "1         0  ...    1268     526     554     300     118    260      0      0   \n",
              "2         0  ...     480      84      74      50      46      0      0      0   \n",
              "3         0  ...    1614    1144    3598    2460    1258   8524    110      0   \n",
              "4      1464  ...    1010     132     310      56      92   1292      0      0   \n",
              "...     ...  ...     ...     ...     ...     ...     ...    ...    ...    ...   \n",
              "4995      0  ...  393008  207182  367634  267778  106778  48688  57146    638   \n",
              "4996      0  ...    5298    3164    9710   47042    2296   1098   3288    272   \n",
              "4997      0  ...     660     272     334      76      14      0      0      0   \n",
              "4998      0  ...  533772   37122   56252   23188    1138    134     22      0   \n",
              "4999      0  ...    4630    2268    4594    2760    2108   9308     64      0   \n",
              "\n",
              "     ef_000 eg_000  \n",
              "0         0      0  \n",
              "1         0      0  \n",
              "2         0      0  \n",
              "3         0      0  \n",
              "4         0      0  \n",
              "...     ...    ...  \n",
              "4995      0      0  \n",
              "4996      0      0  \n",
              "4997      0      0  \n",
              "4998      0      0  \n",
              "4999      0      0  \n",
              "\n",
              "[5000 rows x 171 columns]"
            ],
            "text/html": [
              "\n",
              "  <div id=\"df-366be494-386e-471e-a1e2-ffe693b5b2f4\">\n",
              "    <div class=\"colab-df-container\">\n",
              "      <div>\n",
              "<style scoped>\n",
              "    .dataframe tbody tr th:only-of-type {\n",
              "        vertical-align: middle;\n",
              "    }\n",
              "\n",
              "    .dataframe tbody tr th {\n",
              "        vertical-align: top;\n",
              "    }\n",
              "\n",
              "    .dataframe thead th {\n",
              "        text-align: right;\n",
              "    }\n",
              "</style>\n",
              "<table border=\"1\" class=\"dataframe\">\n",
              "  <thead>\n",
              "    <tr style=\"text-align: right;\">\n",
              "      <th></th>\n",
              "      <th>class</th>\n",
              "      <th>aa_000</th>\n",
              "      <th>ab_000</th>\n",
              "      <th>ac_000</th>\n",
              "      <th>ad_000</th>\n",
              "      <th>ae_000</th>\n",
              "      <th>af_000</th>\n",
              "      <th>ag_000</th>\n",
              "      <th>ag_001</th>\n",
              "      <th>ag_002</th>\n",
              "      <th>...</th>\n",
              "      <th>ee_002</th>\n",
              "      <th>ee_003</th>\n",
              "      <th>ee_004</th>\n",
              "      <th>ee_005</th>\n",
              "      <th>ee_006</th>\n",
              "      <th>ee_007</th>\n",
              "      <th>ee_008</th>\n",
              "      <th>ee_009</th>\n",
              "      <th>ef_000</th>\n",
              "      <th>eg_000</th>\n",
              "    </tr>\n",
              "  </thead>\n",
              "  <tbody>\n",
              "    <tr>\n",
              "      <th>0</th>\n",
              "      <td>neg</td>\n",
              "      <td>6</td>\n",
              "      <td>0</td>\n",
              "      <td>0</td>\n",
              "      <td>0</td>\n",
              "      <td>0</td>\n",
              "      <td>0</td>\n",
              "      <td>0</td>\n",
              "      <td>0</td>\n",
              "      <td>0</td>\n",
              "      <td>...</td>\n",
              "      <td>26</td>\n",
              "      <td>8</td>\n",
              "      <td>26</td>\n",
              "      <td>52</td>\n",
              "      <td>0</td>\n",
              "      <td>0</td>\n",
              "      <td>0</td>\n",
              "      <td>0</td>\n",
              "      <td>0</td>\n",
              "      <td>0</td>\n",
              "    </tr>\n",
              "    <tr>\n",
              "      <th>1</th>\n",
              "      <td>neg</td>\n",
              "      <td>90</td>\n",
              "      <td>0</td>\n",
              "      <td>0</td>\n",
              "      <td>66</td>\n",
              "      <td>0</td>\n",
              "      <td>0</td>\n",
              "      <td>0</td>\n",
              "      <td>0</td>\n",
              "      <td>0</td>\n",
              "      <td>...</td>\n",
              "      <td>1268</td>\n",
              "      <td>526</td>\n",
              "      <td>554</td>\n",
              "      <td>300</td>\n",
              "      <td>118</td>\n",
              "      <td>260</td>\n",
              "      <td>0</td>\n",
              "      <td>0</td>\n",
              "      <td>0</td>\n",
              "      <td>0</td>\n",
              "    </tr>\n",
              "    <tr>\n",
              "      <th>2</th>\n",
              "      <td>neg</td>\n",
              "      <td>30</td>\n",
              "      <td>na</td>\n",
              "      <td>16</td>\n",
              "      <td>14</td>\n",
              "      <td>0</td>\n",
              "      <td>0</td>\n",
              "      <td>0</td>\n",
              "      <td>0</td>\n",
              "      <td>0</td>\n",
              "      <td>...</td>\n",
              "      <td>480</td>\n",
              "      <td>84</td>\n",
              "      <td>74</td>\n",
              "      <td>50</td>\n",
              "      <td>46</td>\n",
              "      <td>0</td>\n",
              "      <td>0</td>\n",
              "      <td>0</td>\n",
              "      <td>0</td>\n",
              "      <td>0</td>\n",
              "    </tr>\n",
              "    <tr>\n",
              "      <th>3</th>\n",
              "      <td>neg</td>\n",
              "      <td>444</td>\n",
              "      <td>na</td>\n",
              "      <td>14</td>\n",
              "      <td>12</td>\n",
              "      <td>0</td>\n",
              "      <td>0</td>\n",
              "      <td>0</td>\n",
              "      <td>0</td>\n",
              "      <td>0</td>\n",
              "      <td>...</td>\n",
              "      <td>1614</td>\n",
              "      <td>1144</td>\n",
              "      <td>3598</td>\n",
              "      <td>2460</td>\n",
              "      <td>1258</td>\n",
              "      <td>8524</td>\n",
              "      <td>110</td>\n",
              "      <td>0</td>\n",
              "      <td>0</td>\n",
              "      <td>0</td>\n",
              "    </tr>\n",
              "    <tr>\n",
              "      <th>4</th>\n",
              "      <td>neg</td>\n",
              "      <td>82</td>\n",
              "      <td>na</td>\n",
              "      <td>12</td>\n",
              "      <td>10</td>\n",
              "      <td>0</td>\n",
              "      <td>0</td>\n",
              "      <td>0</td>\n",
              "      <td>0</td>\n",
              "      <td>1464</td>\n",
              "      <td>...</td>\n",
              "      <td>1010</td>\n",
              "      <td>132</td>\n",
              "      <td>310</td>\n",
              "      <td>56</td>\n",
              "      <td>92</td>\n",
              "      <td>1292</td>\n",
              "      <td>0</td>\n",
              "      <td>0</td>\n",
              "      <td>0</td>\n",
              "      <td>0</td>\n",
              "    </tr>\n",
              "    <tr>\n",
              "      <th>...</th>\n",
              "      <td>...</td>\n",
              "      <td>...</td>\n",
              "      <td>...</td>\n",
              "      <td>...</td>\n",
              "      <td>...</td>\n",
              "      <td>...</td>\n",
              "      <td>...</td>\n",
              "      <td>...</td>\n",
              "      <td>...</td>\n",
              "      <td>...</td>\n",
              "      <td>...</td>\n",
              "      <td>...</td>\n",
              "      <td>...</td>\n",
              "      <td>...</td>\n",
              "      <td>...</td>\n",
              "      <td>...</td>\n",
              "      <td>...</td>\n",
              "      <td>...</td>\n",
              "      <td>...</td>\n",
              "      <td>...</td>\n",
              "      <td>...</td>\n",
              "    </tr>\n",
              "    <tr>\n",
              "      <th>4995</th>\n",
              "      <td>neg</td>\n",
              "      <td>31394</td>\n",
              "      <td>na</td>\n",
              "      <td>0</td>\n",
              "      <td>na</td>\n",
              "      <td>0</td>\n",
              "      <td>0</td>\n",
              "      <td>0</td>\n",
              "      <td>0</td>\n",
              "      <td>0</td>\n",
              "      <td>...</td>\n",
              "      <td>393008</td>\n",
              "      <td>207182</td>\n",
              "      <td>367634</td>\n",
              "      <td>267778</td>\n",
              "      <td>106778</td>\n",
              "      <td>48688</td>\n",
              "      <td>57146</td>\n",
              "      <td>638</td>\n",
              "      <td>0</td>\n",
              "      <td>0</td>\n",
              "    </tr>\n",
              "    <tr>\n",
              "      <th>4996</th>\n",
              "      <td>neg</td>\n",
              "      <td>1598</td>\n",
              "      <td>na</td>\n",
              "      <td>0</td>\n",
              "      <td>na</td>\n",
              "      <td>0</td>\n",
              "      <td>0</td>\n",
              "      <td>0</td>\n",
              "      <td>0</td>\n",
              "      <td>0</td>\n",
              "      <td>...</td>\n",
              "      <td>5298</td>\n",
              "      <td>3164</td>\n",
              "      <td>9710</td>\n",
              "      <td>47042</td>\n",
              "      <td>2296</td>\n",
              "      <td>1098</td>\n",
              "      <td>3288</td>\n",
              "      <td>272</td>\n",
              "      <td>0</td>\n",
              "      <td>0</td>\n",
              "    </tr>\n",
              "    <tr>\n",
              "      <th>4997</th>\n",
              "      <td>neg</td>\n",
              "      <td>42</td>\n",
              "      <td>2</td>\n",
              "      <td>2130706454</td>\n",
              "      <td>56</td>\n",
              "      <td>0</td>\n",
              "      <td>0</td>\n",
              "      <td>0</td>\n",
              "      <td>0</td>\n",
              "      <td>0</td>\n",
              "      <td>...</td>\n",
              "      <td>660</td>\n",
              "      <td>272</td>\n",
              "      <td>334</td>\n",
              "      <td>76</td>\n",
              "      <td>14</td>\n",
              "      <td>0</td>\n",
              "      <td>0</td>\n",
              "      <td>0</td>\n",
              "      <td>0</td>\n",
              "      <td>0</td>\n",
              "    </tr>\n",
              "    <tr>\n",
              "      <th>4998</th>\n",
              "      <td>neg</td>\n",
              "      <td>32752</td>\n",
              "      <td>na</td>\n",
              "      <td>0</td>\n",
              "      <td>na</td>\n",
              "      <td>0</td>\n",
              "      <td>0</td>\n",
              "      <td>0</td>\n",
              "      <td>0</td>\n",
              "      <td>0</td>\n",
              "      <td>...</td>\n",
              "      <td>533772</td>\n",
              "      <td>37122</td>\n",
              "      <td>56252</td>\n",
              "      <td>23188</td>\n",
              "      <td>1138</td>\n",
              "      <td>134</td>\n",
              "      <td>22</td>\n",
              "      <td>0</td>\n",
              "      <td>0</td>\n",
              "      <td>0</td>\n",
              "    </tr>\n",
              "    <tr>\n",
              "      <th>4999</th>\n",
              "      <td>neg</td>\n",
              "      <td>616</td>\n",
              "      <td>6</td>\n",
              "      <td>58</td>\n",
              "      <td>54</td>\n",
              "      <td>0</td>\n",
              "      <td>0</td>\n",
              "      <td>0</td>\n",
              "      <td>0</td>\n",
              "      <td>0</td>\n",
              "      <td>...</td>\n",
              "      <td>4630</td>\n",
              "      <td>2268</td>\n",
              "      <td>4594</td>\n",
              "      <td>2760</td>\n",
              "      <td>2108</td>\n",
              "      <td>9308</td>\n",
              "      <td>64</td>\n",
              "      <td>0</td>\n",
              "      <td>0</td>\n",
              "      <td>0</td>\n",
              "    </tr>\n",
              "  </tbody>\n",
              "</table>\n",
              "<p>5000 rows × 171 columns</p>\n",
              "</div>\n",
              "      <button class=\"colab-df-convert\" onclick=\"convertToInteractive('df-366be494-386e-471e-a1e2-ffe693b5b2f4')\"\n",
              "              title=\"Convert this dataframe to an interactive table.\"\n",
              "              style=\"display:none;\">\n",
              "        \n",
              "  <svg xmlns=\"http://www.w3.org/2000/svg\" height=\"24px\"viewBox=\"0 0 24 24\"\n",
              "       width=\"24px\">\n",
              "    <path d=\"M0 0h24v24H0V0z\" fill=\"none\"/>\n",
              "    <path d=\"M18.56 5.44l.94 2.06.94-2.06 2.06-.94-2.06-.94-.94-2.06-.94 2.06-2.06.94zm-11 1L8.5 8.5l.94-2.06 2.06-.94-2.06-.94L8.5 2.5l-.94 2.06-2.06.94zm10 10l.94 2.06.94-2.06 2.06-.94-2.06-.94-.94-2.06-.94 2.06-2.06.94z\"/><path d=\"M17.41 7.96l-1.37-1.37c-.4-.4-.92-.59-1.43-.59-.52 0-1.04.2-1.43.59L10.3 9.45l-7.72 7.72c-.78.78-.78 2.05 0 2.83L4 21.41c.39.39.9.59 1.41.59.51 0 1.02-.2 1.41-.59l7.78-7.78 2.81-2.81c.8-.78.8-2.07 0-2.86zM5.41 20L4 18.59l7.72-7.72 1.47 1.35L5.41 20z\"/>\n",
              "  </svg>\n",
              "      </button>\n",
              "      \n",
              "  <style>\n",
              "    .colab-df-container {\n",
              "      display:flex;\n",
              "      flex-wrap:wrap;\n",
              "      gap: 12px;\n",
              "    }\n",
              "\n",
              "    .colab-df-convert {\n",
              "      background-color: #E8F0FE;\n",
              "      border: none;\n",
              "      border-radius: 50%;\n",
              "      cursor: pointer;\n",
              "      display: none;\n",
              "      fill: #1967D2;\n",
              "      height: 32px;\n",
              "      padding: 0 0 0 0;\n",
              "      width: 32px;\n",
              "    }\n",
              "\n",
              "    .colab-df-convert:hover {\n",
              "      background-color: #E2EBFA;\n",
              "      box-shadow: 0px 1px 2px rgba(60, 64, 67, 0.3), 0px 1px 3px 1px rgba(60, 64, 67, 0.15);\n",
              "      fill: #174EA6;\n",
              "    }\n",
              "\n",
              "    [theme=dark] .colab-df-convert {\n",
              "      background-color: #3B4455;\n",
              "      fill: #D2E3FC;\n",
              "    }\n",
              "\n",
              "    [theme=dark] .colab-df-convert:hover {\n",
              "      background-color: #434B5C;\n",
              "      box-shadow: 0px 1px 3px 1px rgba(0, 0, 0, 0.15);\n",
              "      filter: drop-shadow(0px 1px 2px rgba(0, 0, 0, 0.3));\n",
              "      fill: #FFFFFF;\n",
              "    }\n",
              "  </style>\n",
              "\n",
              "      <script>\n",
              "        const buttonEl =\n",
              "          document.querySelector('#df-366be494-386e-471e-a1e2-ffe693b5b2f4 button.colab-df-convert');\n",
              "        buttonEl.style.display =\n",
              "          google.colab.kernel.accessAllowed ? 'block' : 'none';\n",
              "\n",
              "        async function convertToInteractive(key) {\n",
              "          const element = document.querySelector('#df-366be494-386e-471e-a1e2-ffe693b5b2f4');\n",
              "          const dataTable =\n",
              "            await google.colab.kernel.invokeFunction('convertToInteractive',\n",
              "                                                     [key], {});\n",
              "          if (!dataTable) return;\n",
              "\n",
              "          const docLinkHtml = 'Like what you see? Visit the ' +\n",
              "            '<a target=\"_blank\" href=https://colab.research.google.com/notebooks/data_table.ipynb>data table notebook</a>'\n",
              "            + ' to learn more about interactive tables.';\n",
              "          element.innerHTML = '';\n",
              "          dataTable['output_type'] = 'display_data';\n",
              "          await google.colab.output.renderOutput(dataTable, element);\n",
              "          const docLink = document.createElement('div');\n",
              "          docLink.innerHTML = docLinkHtml;\n",
              "          element.appendChild(docLink);\n",
              "        }\n",
              "      </script>\n",
              "    </div>\n",
              "  </div>\n",
              "  "
            ]
          },
          "metadata": {},
          "execution_count": 7
        }
      ]
    },
    {
      "cell_type": "code",
      "source": [
        "df.isnull().sum()"
      ],
      "metadata": {
        "colab": {
          "base_uri": "https://localhost:8080/"
        },
        "id": "xxncfzohem19",
        "outputId": "40df97fa-66c6-485f-b45e-ff3dde40b1d9"
      },
      "execution_count": null,
      "outputs": [
        {
          "output_type": "execute_result",
          "data": {
            "text/plain": [
              "class     0\n",
              "aa_000    0\n",
              "ab_000    0\n",
              "ac_000    0\n",
              "ad_000    0\n",
              "         ..\n",
              "ee_007    0\n",
              "ee_008    0\n",
              "ee_009    0\n",
              "ef_000    0\n",
              "eg_000    0\n",
              "Length: 171, dtype: int64"
            ]
          },
          "metadata": {},
          "execution_count": 8
        }
      ]
    },
    {
      "cell_type": "code",
      "source": [
        "df.replace('na' ,np.nan,inplace  = True)"
      ],
      "metadata": {
        "id": "O7Fj2q5Te4uj"
      },
      "execution_count": null,
      "outputs": []
    },
    {
      "cell_type": "code",
      "source": [
        "df.isnull().sum().sum()"
      ],
      "metadata": {
        "colab": {
          "base_uri": "https://localhost:8080/"
        },
        "id": "voHny0hWe-Th",
        "outputId": "00fef363-8049-4c12-d6c5-a950b3c7d269"
      },
      "execution_count": null,
      "outputs": [
        {
          "output_type": "execute_result",
          "data": {
            "text/plain": [
              "71649"
            ]
          },
          "metadata": {},
          "execution_count": 10
        }
      ]
    },
    {
      "cell_type": "code",
      "source": [
        "df1 = pd.DataFrame(df.isnull().sum().sort_values(ascending = False)).rename(columns={0:'Null Value Count'})"
      ],
      "metadata": {
        "id": "hWYtHpp8fdHs"
      },
      "execution_count": null,
      "outputs": []
    },
    {
      "cell_type": "code",
      "source": [
        "df1"
      ],
      "metadata": {
        "colab": {
          "base_uri": "https://localhost:8080/",
          "height": 423
        },
        "id": "1Fm3RiIDgDRz",
        "outputId": "a2522b4d-e867-44f5-db23-a69ae5700539"
      },
      "execution_count": null,
      "outputs": [
        {
          "output_type": "execute_result",
          "data": {
            "text/plain": [
              "        Null Value Count\n",
              "br_000              4105\n",
              "bq_000              4043\n",
              "bp_000              3960\n",
              "ab_000              3849\n",
              "cr_000              3849\n",
              "...                  ...\n",
              "cj_000                38\n",
              "ci_000                38\n",
              "bt_000                12\n",
              "aa_000                 0\n",
              "class                  0\n",
              "\n",
              "[171 rows x 1 columns]"
            ],
            "text/html": [
              "\n",
              "  <div id=\"df-ab46f04e-1a08-4b2b-af8f-6f1831f0fd39\">\n",
              "    <div class=\"colab-df-container\">\n",
              "      <div>\n",
              "<style scoped>\n",
              "    .dataframe tbody tr th:only-of-type {\n",
              "        vertical-align: middle;\n",
              "    }\n",
              "\n",
              "    .dataframe tbody tr th {\n",
              "        vertical-align: top;\n",
              "    }\n",
              "\n",
              "    .dataframe thead th {\n",
              "        text-align: right;\n",
              "    }\n",
              "</style>\n",
              "<table border=\"1\" class=\"dataframe\">\n",
              "  <thead>\n",
              "    <tr style=\"text-align: right;\">\n",
              "      <th></th>\n",
              "      <th>Null Value Count</th>\n",
              "    </tr>\n",
              "  </thead>\n",
              "  <tbody>\n",
              "    <tr>\n",
              "      <th>br_000</th>\n",
              "      <td>4105</td>\n",
              "    </tr>\n",
              "    <tr>\n",
              "      <th>bq_000</th>\n",
              "      <td>4043</td>\n",
              "    </tr>\n",
              "    <tr>\n",
              "      <th>bp_000</th>\n",
              "      <td>3960</td>\n",
              "    </tr>\n",
              "    <tr>\n",
              "      <th>ab_000</th>\n",
              "      <td>3849</td>\n",
              "    </tr>\n",
              "    <tr>\n",
              "      <th>cr_000</th>\n",
              "      <td>3849</td>\n",
              "    </tr>\n",
              "    <tr>\n",
              "      <th>...</th>\n",
              "      <td>...</td>\n",
              "    </tr>\n",
              "    <tr>\n",
              "      <th>cj_000</th>\n",
              "      <td>38</td>\n",
              "    </tr>\n",
              "    <tr>\n",
              "      <th>ci_000</th>\n",
              "      <td>38</td>\n",
              "    </tr>\n",
              "    <tr>\n",
              "      <th>bt_000</th>\n",
              "      <td>12</td>\n",
              "    </tr>\n",
              "    <tr>\n",
              "      <th>aa_000</th>\n",
              "      <td>0</td>\n",
              "    </tr>\n",
              "    <tr>\n",
              "      <th>class</th>\n",
              "      <td>0</td>\n",
              "    </tr>\n",
              "  </tbody>\n",
              "</table>\n",
              "<p>171 rows × 1 columns</p>\n",
              "</div>\n",
              "      <button class=\"colab-df-convert\" onclick=\"convertToInteractive('df-ab46f04e-1a08-4b2b-af8f-6f1831f0fd39')\"\n",
              "              title=\"Convert this dataframe to an interactive table.\"\n",
              "              style=\"display:none;\">\n",
              "        \n",
              "  <svg xmlns=\"http://www.w3.org/2000/svg\" height=\"24px\"viewBox=\"0 0 24 24\"\n",
              "       width=\"24px\">\n",
              "    <path d=\"M0 0h24v24H0V0z\" fill=\"none\"/>\n",
              "    <path d=\"M18.56 5.44l.94 2.06.94-2.06 2.06-.94-2.06-.94-.94-2.06-.94 2.06-2.06.94zm-11 1L8.5 8.5l.94-2.06 2.06-.94-2.06-.94L8.5 2.5l-.94 2.06-2.06.94zm10 10l.94 2.06.94-2.06 2.06-.94-2.06-.94-.94-2.06-.94 2.06-2.06.94z\"/><path d=\"M17.41 7.96l-1.37-1.37c-.4-.4-.92-.59-1.43-.59-.52 0-1.04.2-1.43.59L10.3 9.45l-7.72 7.72c-.78.78-.78 2.05 0 2.83L4 21.41c.39.39.9.59 1.41.59.51 0 1.02-.2 1.41-.59l7.78-7.78 2.81-2.81c.8-.78.8-2.07 0-2.86zM5.41 20L4 18.59l7.72-7.72 1.47 1.35L5.41 20z\"/>\n",
              "  </svg>\n",
              "      </button>\n",
              "      \n",
              "  <style>\n",
              "    .colab-df-container {\n",
              "      display:flex;\n",
              "      flex-wrap:wrap;\n",
              "      gap: 12px;\n",
              "    }\n",
              "\n",
              "    .colab-df-convert {\n",
              "      background-color: #E8F0FE;\n",
              "      border: none;\n",
              "      border-radius: 50%;\n",
              "      cursor: pointer;\n",
              "      display: none;\n",
              "      fill: #1967D2;\n",
              "      height: 32px;\n",
              "      padding: 0 0 0 0;\n",
              "      width: 32px;\n",
              "    }\n",
              "\n",
              "    .colab-df-convert:hover {\n",
              "      background-color: #E2EBFA;\n",
              "      box-shadow: 0px 1px 2px rgba(60, 64, 67, 0.3), 0px 1px 3px 1px rgba(60, 64, 67, 0.15);\n",
              "      fill: #174EA6;\n",
              "    }\n",
              "\n",
              "    [theme=dark] .colab-df-convert {\n",
              "      background-color: #3B4455;\n",
              "      fill: #D2E3FC;\n",
              "    }\n",
              "\n",
              "    [theme=dark] .colab-df-convert:hover {\n",
              "      background-color: #434B5C;\n",
              "      box-shadow: 0px 1px 3px 1px rgba(0, 0, 0, 0.15);\n",
              "      filter: drop-shadow(0px 1px 2px rgba(0, 0, 0, 0.3));\n",
              "      fill: #FFFFFF;\n",
              "    }\n",
              "  </style>\n",
              "\n",
              "      <script>\n",
              "        const buttonEl =\n",
              "          document.querySelector('#df-ab46f04e-1a08-4b2b-af8f-6f1831f0fd39 button.colab-df-convert');\n",
              "        buttonEl.style.display =\n",
              "          google.colab.kernel.accessAllowed ? 'block' : 'none';\n",
              "\n",
              "        async function convertToInteractive(key) {\n",
              "          const element = document.querySelector('#df-ab46f04e-1a08-4b2b-af8f-6f1831f0fd39');\n",
              "          const dataTable =\n",
              "            await google.colab.kernel.invokeFunction('convertToInteractive',\n",
              "                                                     [key], {});\n",
              "          if (!dataTable) return;\n",
              "\n",
              "          const docLinkHtml = 'Like what you see? Visit the ' +\n",
              "            '<a target=\"_blank\" href=https://colab.research.google.com/notebooks/data_table.ipynb>data table notebook</a>'\n",
              "            + ' to learn more about interactive tables.';\n",
              "          element.innerHTML = '';\n",
              "          dataTable['output_type'] = 'display_data';\n",
              "          await google.colab.output.renderOutput(dataTable, element);\n",
              "          const docLink = document.createElement('div');\n",
              "          docLink.innerHTML = docLinkHtml;\n",
              "          element.appendChild(docLink);\n",
              "        }\n",
              "      </script>\n",
              "    </div>\n",
              "  </div>\n",
              "  "
            ]
          },
          "metadata": {},
          "execution_count": 12
        }
      ]
    },
    {
      "cell_type": "code",
      "source": [
        "[feature for feature in df.columns if feature not in ['class']]"
      ],
      "metadata": {
        "colab": {
          "base_uri": "https://localhost:8080/"
        },
        "id": "H8ii0Vz0gcRJ",
        "outputId": "0e6c62ed-1011-428c-e4d5-cbe1248f6e9d"
      },
      "execution_count": null,
      "outputs": [
        {
          "output_type": "execute_result",
          "data": {
            "text/plain": [
              "['aa_000',\n",
              " 'ab_000',\n",
              " 'ac_000',\n",
              " 'ad_000',\n",
              " 'ae_000',\n",
              " 'af_000',\n",
              " 'ag_000',\n",
              " 'ag_001',\n",
              " 'ag_002',\n",
              " 'ag_003',\n",
              " 'ag_004',\n",
              " 'ag_005',\n",
              " 'ag_006',\n",
              " 'ag_007',\n",
              " 'ag_008',\n",
              " 'ag_009',\n",
              " 'ah_000',\n",
              " 'ai_000',\n",
              " 'aj_000',\n",
              " 'ak_000',\n",
              " 'al_000',\n",
              " 'am_0',\n",
              " 'an_000',\n",
              " 'ao_000',\n",
              " 'ap_000',\n",
              " 'aq_000',\n",
              " 'ar_000',\n",
              " 'as_000',\n",
              " 'at_000',\n",
              " 'au_000',\n",
              " 'av_000',\n",
              " 'ax_000',\n",
              " 'ay_000',\n",
              " 'ay_001',\n",
              " 'ay_002',\n",
              " 'ay_003',\n",
              " 'ay_004',\n",
              " 'ay_005',\n",
              " 'ay_006',\n",
              " 'ay_007',\n",
              " 'ay_008',\n",
              " 'ay_009',\n",
              " 'az_000',\n",
              " 'az_001',\n",
              " 'az_002',\n",
              " 'az_003',\n",
              " 'az_004',\n",
              " 'az_005',\n",
              " 'az_006',\n",
              " 'az_007',\n",
              " 'az_008',\n",
              " 'az_009',\n",
              " 'ba_000',\n",
              " 'ba_001',\n",
              " 'ba_002',\n",
              " 'ba_003',\n",
              " 'ba_004',\n",
              " 'ba_005',\n",
              " 'ba_006',\n",
              " 'ba_007',\n",
              " 'ba_008',\n",
              " 'ba_009',\n",
              " 'bb_000',\n",
              " 'bc_000',\n",
              " 'bd_000',\n",
              " 'be_000',\n",
              " 'bf_000',\n",
              " 'bg_000',\n",
              " 'bh_000',\n",
              " 'bi_000',\n",
              " 'bj_000',\n",
              " 'bk_000',\n",
              " 'bl_000',\n",
              " 'bm_000',\n",
              " 'bn_000',\n",
              " 'bo_000',\n",
              " 'bp_000',\n",
              " 'bq_000',\n",
              " 'br_000',\n",
              " 'bs_000',\n",
              " 'bt_000',\n",
              " 'bu_000',\n",
              " 'bv_000',\n",
              " 'bx_000',\n",
              " 'by_000',\n",
              " 'bz_000',\n",
              " 'ca_000',\n",
              " 'cb_000',\n",
              " 'cc_000',\n",
              " 'cd_000',\n",
              " 'ce_000',\n",
              " 'cf_000',\n",
              " 'cg_000',\n",
              " 'ch_000',\n",
              " 'ci_000',\n",
              " 'cj_000',\n",
              " 'ck_000',\n",
              " 'cl_000',\n",
              " 'cm_000',\n",
              " 'cn_000',\n",
              " 'cn_001',\n",
              " 'cn_002',\n",
              " 'cn_003',\n",
              " 'cn_004',\n",
              " 'cn_005',\n",
              " 'cn_006',\n",
              " 'cn_007',\n",
              " 'cn_008',\n",
              " 'cn_009',\n",
              " 'co_000',\n",
              " 'cp_000',\n",
              " 'cq_000',\n",
              " 'cr_000',\n",
              " 'cs_000',\n",
              " 'cs_001',\n",
              " 'cs_002',\n",
              " 'cs_003',\n",
              " 'cs_004',\n",
              " 'cs_005',\n",
              " 'cs_006',\n",
              " 'cs_007',\n",
              " 'cs_008',\n",
              " 'cs_009',\n",
              " 'ct_000',\n",
              " 'cu_000',\n",
              " 'cv_000',\n",
              " 'cx_000',\n",
              " 'cy_000',\n",
              " 'cz_000',\n",
              " 'da_000',\n",
              " 'db_000',\n",
              " 'dc_000',\n",
              " 'dd_000',\n",
              " 'de_000',\n",
              " 'df_000',\n",
              " 'dg_000',\n",
              " 'dh_000',\n",
              " 'di_000',\n",
              " 'dj_000',\n",
              " 'dk_000',\n",
              " 'dl_000',\n",
              " 'dm_000',\n",
              " 'dn_000',\n",
              " 'do_000',\n",
              " 'dp_000',\n",
              " 'dq_000',\n",
              " 'dr_000',\n",
              " 'ds_000',\n",
              " 'dt_000',\n",
              " 'du_000',\n",
              " 'dv_000',\n",
              " 'dx_000',\n",
              " 'dy_000',\n",
              " 'dz_000',\n",
              " 'ea_000',\n",
              " 'eb_000',\n",
              " 'ec_00',\n",
              " 'ed_000',\n",
              " 'ee_000',\n",
              " 'ee_001',\n",
              " 'ee_002',\n",
              " 'ee_003',\n",
              " 'ee_004',\n",
              " 'ee_005',\n",
              " 'ee_006',\n",
              " 'ee_007',\n",
              " 'ee_008',\n",
              " 'ee_009',\n",
              " 'ef_000',\n",
              " 'eg_000']"
            ]
          },
          "metadata": {},
          "execution_count": 16
        }
      ]
    },
    {
      "cell_type": "code",
      "source": [
        "for feature in [feature for feature in df.columns if feature not in ['class']]:\n",
        "    df[feature]=df[feature].fillna(df[feature].median())"
      ],
      "metadata": {
        "id": "KKHWE_fghJWR"
      },
      "execution_count": null,
      "outputs": []
    },
    {
      "cell_type": "code",
      "source": [
        "df.isnull().sum().sum()"
      ],
      "metadata": {
        "colab": {
          "base_uri": "https://localhost:8080/"
        },
        "id": "Ozbh_JUjiona",
        "outputId": "2db22031-dbdc-4f45-a195-6cfeb2b2c592"
      },
      "execution_count": null,
      "outputs": [
        {
          "output_type": "execute_result",
          "data": {
            "text/plain": [
              "0"
            ]
          },
          "metadata": {},
          "execution_count": 98
        }
      ]
    },
    {
      "cell_type": "code",
      "source": [
        "df"
      ],
      "metadata": {
        "colab": {
          "base_uri": "https://localhost:8080/",
          "height": 423
        },
        "id": "ry_I_ENGiPCr",
        "outputId": "349b8a30-e7f8-4b23-fd48-156d1677a415"
      },
      "execution_count": null,
      "outputs": [
        {
          "output_type": "execute_result",
          "data": {
            "text/plain": [
              "     class  aa_000  ab_000      ac_000  ad_000  ae_000  af_000  ag_000  \\\n",
              "0      neg       6       0           0       0       0       0       0   \n",
              "1      neg      90       0           0      66       0       0       0   \n",
              "2      neg      30       0          16      14       0       0       0   \n",
              "3      neg     444       0          14      12       0       0       0   \n",
              "4      neg      82       0          12      10       0       0       0   \n",
              "...    ...     ...     ...         ...     ...     ...     ...     ...   \n",
              "4995   neg   31394       0           0     136       0       0       0   \n",
              "4996   neg    1598       0           0     136       0       0       0   \n",
              "4997   neg      42       2  2130706454      56       0       0       0   \n",
              "4998   neg   32752       0           0     136       0       0       0   \n",
              "4999   neg     616       6          58      54       0       0       0   \n",
              "\n",
              "      ag_001  ag_002  ...    ee_002    ee_003    ee_004    ee_005    ee_006  \\\n",
              "0          0       0  ...      26.0       8.0      26.0      52.0       0.0   \n",
              "1          0       0  ...    1268.0     526.0     554.0     300.0     118.0   \n",
              "2          0       0  ...     480.0      84.0      74.0      50.0      46.0   \n",
              "3          0       0  ...    1614.0    1144.0    3598.0    2460.0    1258.0   \n",
              "4          0    1464  ...    1010.0     132.0     310.0      56.0      92.0   \n",
              "...      ...     ...  ...       ...       ...       ...       ...       ...   \n",
              "4995       0       0  ...  393008.0  207182.0  367634.0  267778.0  106778.0   \n",
              "4996       0       0  ...    5298.0    3164.0    9710.0   47042.0    2296.0   \n",
              "4997       0       0  ...     660.0     272.0     334.0      76.0      14.0   \n",
              "4998       0       0  ...  533772.0   37122.0   56252.0   23188.0    1138.0   \n",
              "4999       0       0  ...    4630.0    2268.0    4594.0    2760.0    2108.0   \n",
              "\n",
              "       ee_007   ee_008  ee_009  ef_000  eg_000  \n",
              "0         0.0      0.0     0.0     0.0     0.0  \n",
              "1       260.0      0.0     0.0     0.0     0.0  \n",
              "2         0.0      0.0     0.0     0.0     0.0  \n",
              "3      8524.0    110.0     0.0     0.0     0.0  \n",
              "4      1292.0      0.0     0.0     0.0     0.0  \n",
              "...       ...      ...     ...     ...     ...  \n",
              "4995  48688.0  57146.0   638.0     0.0     0.0  \n",
              "4996   1098.0   3288.0   272.0     0.0     0.0  \n",
              "4997      0.0      0.0     0.0     0.0     0.0  \n",
              "4998    134.0     22.0     0.0     0.0     0.0  \n",
              "4999   9308.0     64.0     0.0     0.0     0.0  \n",
              "\n",
              "[5000 rows x 171 columns]"
            ],
            "text/html": [
              "\n",
              "  <div id=\"df-034ef709-7020-4c1c-b401-659bb8afa95b\">\n",
              "    <div class=\"colab-df-container\">\n",
              "      <div>\n",
              "<style scoped>\n",
              "    .dataframe tbody tr th:only-of-type {\n",
              "        vertical-align: middle;\n",
              "    }\n",
              "\n",
              "    .dataframe tbody tr th {\n",
              "        vertical-align: top;\n",
              "    }\n",
              "\n",
              "    .dataframe thead th {\n",
              "        text-align: right;\n",
              "    }\n",
              "</style>\n",
              "<table border=\"1\" class=\"dataframe\">\n",
              "  <thead>\n",
              "    <tr style=\"text-align: right;\">\n",
              "      <th></th>\n",
              "      <th>class</th>\n",
              "      <th>aa_000</th>\n",
              "      <th>ab_000</th>\n",
              "      <th>ac_000</th>\n",
              "      <th>ad_000</th>\n",
              "      <th>ae_000</th>\n",
              "      <th>af_000</th>\n",
              "      <th>ag_000</th>\n",
              "      <th>ag_001</th>\n",
              "      <th>ag_002</th>\n",
              "      <th>...</th>\n",
              "      <th>ee_002</th>\n",
              "      <th>ee_003</th>\n",
              "      <th>ee_004</th>\n",
              "      <th>ee_005</th>\n",
              "      <th>ee_006</th>\n",
              "      <th>ee_007</th>\n",
              "      <th>ee_008</th>\n",
              "      <th>ee_009</th>\n",
              "      <th>ef_000</th>\n",
              "      <th>eg_000</th>\n",
              "    </tr>\n",
              "  </thead>\n",
              "  <tbody>\n",
              "    <tr>\n",
              "      <th>0</th>\n",
              "      <td>neg</td>\n",
              "      <td>6</td>\n",
              "      <td>0</td>\n",
              "      <td>0</td>\n",
              "      <td>0</td>\n",
              "      <td>0</td>\n",
              "      <td>0</td>\n",
              "      <td>0</td>\n",
              "      <td>0</td>\n",
              "      <td>0</td>\n",
              "      <td>...</td>\n",
              "      <td>26.0</td>\n",
              "      <td>8.0</td>\n",
              "      <td>26.0</td>\n",
              "      <td>52.0</td>\n",
              "      <td>0.0</td>\n",
              "      <td>0.0</td>\n",
              "      <td>0.0</td>\n",
              "      <td>0.0</td>\n",
              "      <td>0.0</td>\n",
              "      <td>0.0</td>\n",
              "    </tr>\n",
              "    <tr>\n",
              "      <th>1</th>\n",
              "      <td>neg</td>\n",
              "      <td>90</td>\n",
              "      <td>0</td>\n",
              "      <td>0</td>\n",
              "      <td>66</td>\n",
              "      <td>0</td>\n",
              "      <td>0</td>\n",
              "      <td>0</td>\n",
              "      <td>0</td>\n",
              "      <td>0</td>\n",
              "      <td>...</td>\n",
              "      <td>1268.0</td>\n",
              "      <td>526.0</td>\n",
              "      <td>554.0</td>\n",
              "      <td>300.0</td>\n",
              "      <td>118.0</td>\n",
              "      <td>260.0</td>\n",
              "      <td>0.0</td>\n",
              "      <td>0.0</td>\n",
              "      <td>0.0</td>\n",
              "      <td>0.0</td>\n",
              "    </tr>\n",
              "    <tr>\n",
              "      <th>2</th>\n",
              "      <td>neg</td>\n",
              "      <td>30</td>\n",
              "      <td>0</td>\n",
              "      <td>16</td>\n",
              "      <td>14</td>\n",
              "      <td>0</td>\n",
              "      <td>0</td>\n",
              "      <td>0</td>\n",
              "      <td>0</td>\n",
              "      <td>0</td>\n",
              "      <td>...</td>\n",
              "      <td>480.0</td>\n",
              "      <td>84.0</td>\n",
              "      <td>74.0</td>\n",
              "      <td>50.0</td>\n",
              "      <td>46.0</td>\n",
              "      <td>0.0</td>\n",
              "      <td>0.0</td>\n",
              "      <td>0.0</td>\n",
              "      <td>0.0</td>\n",
              "      <td>0.0</td>\n",
              "    </tr>\n",
              "    <tr>\n",
              "      <th>3</th>\n",
              "      <td>neg</td>\n",
              "      <td>444</td>\n",
              "      <td>0</td>\n",
              "      <td>14</td>\n",
              "      <td>12</td>\n",
              "      <td>0</td>\n",
              "      <td>0</td>\n",
              "      <td>0</td>\n",
              "      <td>0</td>\n",
              "      <td>0</td>\n",
              "      <td>...</td>\n",
              "      <td>1614.0</td>\n",
              "      <td>1144.0</td>\n",
              "      <td>3598.0</td>\n",
              "      <td>2460.0</td>\n",
              "      <td>1258.0</td>\n",
              "      <td>8524.0</td>\n",
              "      <td>110.0</td>\n",
              "      <td>0.0</td>\n",
              "      <td>0.0</td>\n",
              "      <td>0.0</td>\n",
              "    </tr>\n",
              "    <tr>\n",
              "      <th>4</th>\n",
              "      <td>neg</td>\n",
              "      <td>82</td>\n",
              "      <td>0</td>\n",
              "      <td>12</td>\n",
              "      <td>10</td>\n",
              "      <td>0</td>\n",
              "      <td>0</td>\n",
              "      <td>0</td>\n",
              "      <td>0</td>\n",
              "      <td>1464</td>\n",
              "      <td>...</td>\n",
              "      <td>1010.0</td>\n",
              "      <td>132.0</td>\n",
              "      <td>310.0</td>\n",
              "      <td>56.0</td>\n",
              "      <td>92.0</td>\n",
              "      <td>1292.0</td>\n",
              "      <td>0.0</td>\n",
              "      <td>0.0</td>\n",
              "      <td>0.0</td>\n",
              "      <td>0.0</td>\n",
              "    </tr>\n",
              "    <tr>\n",
              "      <th>...</th>\n",
              "      <td>...</td>\n",
              "      <td>...</td>\n",
              "      <td>...</td>\n",
              "      <td>...</td>\n",
              "      <td>...</td>\n",
              "      <td>...</td>\n",
              "      <td>...</td>\n",
              "      <td>...</td>\n",
              "      <td>...</td>\n",
              "      <td>...</td>\n",
              "      <td>...</td>\n",
              "      <td>...</td>\n",
              "      <td>...</td>\n",
              "      <td>...</td>\n",
              "      <td>...</td>\n",
              "      <td>...</td>\n",
              "      <td>...</td>\n",
              "      <td>...</td>\n",
              "      <td>...</td>\n",
              "      <td>...</td>\n",
              "      <td>...</td>\n",
              "    </tr>\n",
              "    <tr>\n",
              "      <th>4995</th>\n",
              "      <td>neg</td>\n",
              "      <td>31394</td>\n",
              "      <td>0</td>\n",
              "      <td>0</td>\n",
              "      <td>136</td>\n",
              "      <td>0</td>\n",
              "      <td>0</td>\n",
              "      <td>0</td>\n",
              "      <td>0</td>\n",
              "      <td>0</td>\n",
              "      <td>...</td>\n",
              "      <td>393008.0</td>\n",
              "      <td>207182.0</td>\n",
              "      <td>367634.0</td>\n",
              "      <td>267778.0</td>\n",
              "      <td>106778.0</td>\n",
              "      <td>48688.0</td>\n",
              "      <td>57146.0</td>\n",
              "      <td>638.0</td>\n",
              "      <td>0.0</td>\n",
              "      <td>0.0</td>\n",
              "    </tr>\n",
              "    <tr>\n",
              "      <th>4996</th>\n",
              "      <td>neg</td>\n",
              "      <td>1598</td>\n",
              "      <td>0</td>\n",
              "      <td>0</td>\n",
              "      <td>136</td>\n",
              "      <td>0</td>\n",
              "      <td>0</td>\n",
              "      <td>0</td>\n",
              "      <td>0</td>\n",
              "      <td>0</td>\n",
              "      <td>...</td>\n",
              "      <td>5298.0</td>\n",
              "      <td>3164.0</td>\n",
              "      <td>9710.0</td>\n",
              "      <td>47042.0</td>\n",
              "      <td>2296.0</td>\n",
              "      <td>1098.0</td>\n",
              "      <td>3288.0</td>\n",
              "      <td>272.0</td>\n",
              "      <td>0.0</td>\n",
              "      <td>0.0</td>\n",
              "    </tr>\n",
              "    <tr>\n",
              "      <th>4997</th>\n",
              "      <td>neg</td>\n",
              "      <td>42</td>\n",
              "      <td>2</td>\n",
              "      <td>2130706454</td>\n",
              "      <td>56</td>\n",
              "      <td>0</td>\n",
              "      <td>0</td>\n",
              "      <td>0</td>\n",
              "      <td>0</td>\n",
              "      <td>0</td>\n",
              "      <td>...</td>\n",
              "      <td>660.0</td>\n",
              "      <td>272.0</td>\n",
              "      <td>334.0</td>\n",
              "      <td>76.0</td>\n",
              "      <td>14.0</td>\n",
              "      <td>0.0</td>\n",
              "      <td>0.0</td>\n",
              "      <td>0.0</td>\n",
              "      <td>0.0</td>\n",
              "      <td>0.0</td>\n",
              "    </tr>\n",
              "    <tr>\n",
              "      <th>4998</th>\n",
              "      <td>neg</td>\n",
              "      <td>32752</td>\n",
              "      <td>0</td>\n",
              "      <td>0</td>\n",
              "      <td>136</td>\n",
              "      <td>0</td>\n",
              "      <td>0</td>\n",
              "      <td>0</td>\n",
              "      <td>0</td>\n",
              "      <td>0</td>\n",
              "      <td>...</td>\n",
              "      <td>533772.0</td>\n",
              "      <td>37122.0</td>\n",
              "      <td>56252.0</td>\n",
              "      <td>23188.0</td>\n",
              "      <td>1138.0</td>\n",
              "      <td>134.0</td>\n",
              "      <td>22.0</td>\n",
              "      <td>0.0</td>\n",
              "      <td>0.0</td>\n",
              "      <td>0.0</td>\n",
              "    </tr>\n",
              "    <tr>\n",
              "      <th>4999</th>\n",
              "      <td>neg</td>\n",
              "      <td>616</td>\n",
              "      <td>6</td>\n",
              "      <td>58</td>\n",
              "      <td>54</td>\n",
              "      <td>0</td>\n",
              "      <td>0</td>\n",
              "      <td>0</td>\n",
              "      <td>0</td>\n",
              "      <td>0</td>\n",
              "      <td>...</td>\n",
              "      <td>4630.0</td>\n",
              "      <td>2268.0</td>\n",
              "      <td>4594.0</td>\n",
              "      <td>2760.0</td>\n",
              "      <td>2108.0</td>\n",
              "      <td>9308.0</td>\n",
              "      <td>64.0</td>\n",
              "      <td>0.0</td>\n",
              "      <td>0.0</td>\n",
              "      <td>0.0</td>\n",
              "    </tr>\n",
              "  </tbody>\n",
              "</table>\n",
              "<p>5000 rows × 171 columns</p>\n",
              "</div>\n",
              "      <button class=\"colab-df-convert\" onclick=\"convertToInteractive('df-034ef709-7020-4c1c-b401-659bb8afa95b')\"\n",
              "              title=\"Convert this dataframe to an interactive table.\"\n",
              "              style=\"display:none;\">\n",
              "        \n",
              "  <svg xmlns=\"http://www.w3.org/2000/svg\" height=\"24px\"viewBox=\"0 0 24 24\"\n",
              "       width=\"24px\">\n",
              "    <path d=\"M0 0h24v24H0V0z\" fill=\"none\"/>\n",
              "    <path d=\"M18.56 5.44l.94 2.06.94-2.06 2.06-.94-2.06-.94-.94-2.06-.94 2.06-2.06.94zm-11 1L8.5 8.5l.94-2.06 2.06-.94-2.06-.94L8.5 2.5l-.94 2.06-2.06.94zm10 10l.94 2.06.94-2.06 2.06-.94-2.06-.94-.94-2.06-.94 2.06-2.06.94z\"/><path d=\"M17.41 7.96l-1.37-1.37c-.4-.4-.92-.59-1.43-.59-.52 0-1.04.2-1.43.59L10.3 9.45l-7.72 7.72c-.78.78-.78 2.05 0 2.83L4 21.41c.39.39.9.59 1.41.59.51 0 1.02-.2 1.41-.59l7.78-7.78 2.81-2.81c.8-.78.8-2.07 0-2.86zM5.41 20L4 18.59l7.72-7.72 1.47 1.35L5.41 20z\"/>\n",
              "  </svg>\n",
              "      </button>\n",
              "      \n",
              "  <style>\n",
              "    .colab-df-container {\n",
              "      display:flex;\n",
              "      flex-wrap:wrap;\n",
              "      gap: 12px;\n",
              "    }\n",
              "\n",
              "    .colab-df-convert {\n",
              "      background-color: #E8F0FE;\n",
              "      border: none;\n",
              "      border-radius: 50%;\n",
              "      cursor: pointer;\n",
              "      display: none;\n",
              "      fill: #1967D2;\n",
              "      height: 32px;\n",
              "      padding: 0 0 0 0;\n",
              "      width: 32px;\n",
              "    }\n",
              "\n",
              "    .colab-df-convert:hover {\n",
              "      background-color: #E2EBFA;\n",
              "      box-shadow: 0px 1px 2px rgba(60, 64, 67, 0.3), 0px 1px 3px 1px rgba(60, 64, 67, 0.15);\n",
              "      fill: #174EA6;\n",
              "    }\n",
              "\n",
              "    [theme=dark] .colab-df-convert {\n",
              "      background-color: #3B4455;\n",
              "      fill: #D2E3FC;\n",
              "    }\n",
              "\n",
              "    [theme=dark] .colab-df-convert:hover {\n",
              "      background-color: #434B5C;\n",
              "      box-shadow: 0px 1px 3px 1px rgba(0, 0, 0, 0.15);\n",
              "      filter: drop-shadow(0px 1px 2px rgba(0, 0, 0, 0.3));\n",
              "      fill: #FFFFFF;\n",
              "    }\n",
              "  </style>\n",
              "\n",
              "      <script>\n",
              "        const buttonEl =\n",
              "          document.querySelector('#df-034ef709-7020-4c1c-b401-659bb8afa95b button.colab-df-convert');\n",
              "        buttonEl.style.display =\n",
              "          google.colab.kernel.accessAllowed ? 'block' : 'none';\n",
              "\n",
              "        async function convertToInteractive(key) {\n",
              "          const element = document.querySelector('#df-034ef709-7020-4c1c-b401-659bb8afa95b');\n",
              "          const dataTable =\n",
              "            await google.colab.kernel.invokeFunction('convertToInteractive',\n",
              "                                                     [key], {});\n",
              "          if (!dataTable) return;\n",
              "\n",
              "          const docLinkHtml = 'Like what you see? Visit the ' +\n",
              "            '<a target=\"_blank\" href=https://colab.research.google.com/notebooks/data_table.ipynb>data table notebook</a>'\n",
              "            + ' to learn more about interactive tables.';\n",
              "          element.innerHTML = '';\n",
              "          dataTable['output_type'] = 'display_data';\n",
              "          await google.colab.output.renderOutput(dataTable, element);\n",
              "          const docLink = document.createElement('div');\n",
              "          docLink.innerHTML = docLinkHtml;\n",
              "          element.appendChild(docLink);\n",
              "        }\n",
              "      </script>\n",
              "    </div>\n",
              "  </div>\n",
              "  "
            ]
          },
          "metadata": {},
          "execution_count": 99
        }
      ]
    },
    {
      "cell_type": "code",
      "source": [
        "X = df.drop(columns = ['class'])"
      ],
      "metadata": {
        "id": "EZndvlCoiZhb"
      },
      "execution_count": null,
      "outputs": []
    },
    {
      "cell_type": "code",
      "source": [
        "y = df['class']"
      ],
      "metadata": {
        "id": "YXjrnd5OiiRW"
      },
      "execution_count": null,
      "outputs": []
    },
    {
      "cell_type": "code",
      "source": [
        "for i in X.columns:\n",
        "  df[i] = pd.to_numeric(df[i])\n",
        "  print(i)"
      ],
      "metadata": {
        "colab": {
          "base_uri": "https://localhost:8080/"
        },
        "id": "Sw2wneMD0Bhd",
        "outputId": "f994cba2-be39-4a4b-80c7-8040168f335e"
      },
      "execution_count": null,
      "outputs": [
        {
          "output_type": "stream",
          "name": "stdout",
          "text": [
            "aa_000\n",
            "ab_000\n",
            "ac_000\n",
            "ad_000\n",
            "ae_000\n",
            "af_000\n",
            "ag_000\n",
            "ag_001\n",
            "ag_002\n",
            "ag_003\n",
            "ag_004\n",
            "ag_005\n",
            "ag_006\n",
            "ag_007\n",
            "ag_008\n",
            "ag_009\n",
            "ah_000\n",
            "ai_000\n",
            "aj_000\n",
            "ak_000\n",
            "al_000\n",
            "am_0\n",
            "an_000\n",
            "ao_000\n",
            "ap_000\n",
            "aq_000\n",
            "ar_000\n",
            "as_000\n",
            "at_000\n",
            "au_000\n",
            "av_000\n",
            "ax_000\n",
            "ay_000\n",
            "ay_001\n",
            "ay_002\n",
            "ay_003\n",
            "ay_004\n",
            "ay_005\n",
            "ay_006\n",
            "ay_007\n",
            "ay_008\n",
            "ay_009\n",
            "az_000\n",
            "az_001\n",
            "az_002\n",
            "az_003\n",
            "az_004\n",
            "az_005\n",
            "az_006\n",
            "az_007\n",
            "az_008\n",
            "az_009\n",
            "ba_000\n",
            "ba_001\n",
            "ba_002\n",
            "ba_003\n",
            "ba_004\n",
            "ba_005\n",
            "ba_006\n",
            "ba_007\n",
            "ba_008\n",
            "ba_009\n",
            "bb_000\n",
            "bc_000\n",
            "bd_000\n",
            "be_000\n",
            "bf_000\n",
            "bg_000\n",
            "bh_000\n",
            "bi_000\n",
            "bj_000\n",
            "bk_000\n",
            "bl_000\n",
            "bm_000\n",
            "bn_000\n",
            "bo_000\n",
            "bp_000\n",
            "bq_000\n",
            "br_000\n",
            "bs_000\n",
            "bt_000\n",
            "bu_000\n",
            "bv_000\n",
            "bx_000\n",
            "by_000\n",
            "bz_000\n",
            "ca_000\n",
            "cb_000\n",
            "cc_000\n",
            "cd_000\n",
            "ce_000\n",
            "cf_000\n",
            "cg_000\n",
            "ch_000\n",
            "ci_000\n",
            "cj_000\n",
            "ck_000\n",
            "cl_000\n",
            "cm_000\n",
            "cn_000\n",
            "cn_001\n",
            "cn_002\n",
            "cn_003\n",
            "cn_004\n",
            "cn_005\n",
            "cn_006\n",
            "cn_007\n",
            "cn_008\n",
            "cn_009\n",
            "co_000\n",
            "cp_000\n",
            "cq_000\n",
            "cr_000\n",
            "cs_000\n",
            "cs_001\n",
            "cs_002\n",
            "cs_003\n",
            "cs_004\n",
            "cs_005\n",
            "cs_006\n",
            "cs_007\n",
            "cs_008\n",
            "cs_009\n",
            "ct_000\n",
            "cu_000\n",
            "cv_000\n",
            "cx_000\n",
            "cy_000\n",
            "cz_000\n",
            "da_000\n",
            "db_000\n",
            "dc_000\n",
            "dd_000\n",
            "de_000\n",
            "df_000\n",
            "dg_000\n",
            "dh_000\n",
            "di_000\n",
            "dj_000\n",
            "dk_000\n",
            "dl_000\n",
            "dm_000\n",
            "dn_000\n",
            "do_000\n",
            "dp_000\n",
            "dq_000\n",
            "dr_000\n",
            "ds_000\n",
            "dt_000\n",
            "du_000\n",
            "dv_000\n",
            "dx_000\n",
            "dy_000\n",
            "dz_000\n",
            "ea_000\n",
            "eb_000\n",
            "ec_00\n",
            "ed_000\n",
            "ee_000\n",
            "ee_001\n",
            "ee_002\n",
            "ee_003\n",
            "ee_004\n",
            "ee_005\n",
            "ee_006\n",
            "ee_007\n",
            "ee_008\n",
            "ee_009\n",
            "ef_000\n",
            "eg_000\n"
          ]
        }
      ]
    },
    {
      "cell_type": "code",
      "source": [
        "X.info(verbose = True , show_counts = True)"
      ],
      "metadata": {
        "colab": {
          "base_uri": "https://localhost:8080/"
        },
        "id": "axe7LymLik_S",
        "outputId": "39b7be74-edc9-47ec-8ce0-7662dce84ee9"
      },
      "execution_count": null,
      "outputs": [
        {
          "output_type": "stream",
          "name": "stdout",
          "text": [
            "<class 'pandas.core.frame.DataFrame'>\n",
            "RangeIndex: 5000 entries, 0 to 4999\n",
            "Data columns (total 170 columns):\n",
            " #    Column  Non-Null Count  Dtype  \n",
            "---   ------  --------------  -----  \n",
            " 0    aa_000  5000 non-null   int64  \n",
            " 1    ab_000  5000 non-null   int64  \n",
            " 2    ac_000  5000 non-null   int64  \n",
            " 3    ad_000  5000 non-null   int64  \n",
            " 4    ae_000  5000 non-null   int64  \n",
            " 5    af_000  5000 non-null   int64  \n",
            " 6    ag_000  5000 non-null   int64  \n",
            " 7    ag_001  5000 non-null   int64  \n",
            " 8    ag_002  5000 non-null   int64  \n",
            " 9    ag_003  5000 non-null   int64  \n",
            " 10   ag_004  5000 non-null   int64  \n",
            " 11   ag_005  5000 non-null   int64  \n",
            " 12   ag_006  5000 non-null   int64  \n",
            " 13   ag_007  5000 non-null   int64  \n",
            " 14   ag_008  5000 non-null   int64  \n",
            " 15   ag_009  5000 non-null   int64  \n",
            " 16   ah_000  5000 non-null   int64  \n",
            " 17   ai_000  5000 non-null   int64  \n",
            " 18   aj_000  5000 non-null   int64  \n",
            " 19   ak_000  5000 non-null   int64  \n",
            " 20   al_000  5000 non-null   int64  \n",
            " 21   am_0    5000 non-null   int64  \n",
            " 22   an_000  5000 non-null   int64  \n",
            " 23   ao_000  5000 non-null   int64  \n",
            " 24   ap_000  5000 non-null   int64  \n",
            " 25   aq_000  5000 non-null   int64  \n",
            " 26   ar_000  5000 non-null   int64  \n",
            " 27   as_000  5000 non-null   int64  \n",
            " 28   at_000  5000 non-null   int64  \n",
            " 29   au_000  5000 non-null   int64  \n",
            " 30   av_000  5000 non-null   int64  \n",
            " 31   ax_000  5000 non-null   int64  \n",
            " 32   ay_000  5000 non-null   int64  \n",
            " 33   ay_001  5000 non-null   int64  \n",
            " 34   ay_002  5000 non-null   int64  \n",
            " 35   ay_003  5000 non-null   int64  \n",
            " 36   ay_004  5000 non-null   int64  \n",
            " 37   ay_005  5000 non-null   int64  \n",
            " 38   ay_006  5000 non-null   int64  \n",
            " 39   ay_007  5000 non-null   int64  \n",
            " 40   ay_008  5000 non-null   int64  \n",
            " 41   ay_009  5000 non-null   int64  \n",
            " 42   az_000  5000 non-null   int64  \n",
            " 43   az_001  5000 non-null   int64  \n",
            " 44   az_002  5000 non-null   int64  \n",
            " 45   az_003  5000 non-null   int64  \n",
            " 46   az_004  5000 non-null   int64  \n",
            " 47   az_005  5000 non-null   int64  \n",
            " 48   az_006  5000 non-null   int64  \n",
            " 49   az_007  5000 non-null   int64  \n",
            " 50   az_008  5000 non-null   int64  \n",
            " 51   az_009  5000 non-null   int64  \n",
            " 52   ba_000  5000 non-null   int64  \n",
            " 53   ba_001  5000 non-null   int64  \n",
            " 54   ba_002  5000 non-null   int64  \n",
            " 55   ba_003  5000 non-null   int64  \n",
            " 56   ba_004  5000 non-null   int64  \n",
            " 57   ba_005  5000 non-null   int64  \n",
            " 58   ba_006  5000 non-null   int64  \n",
            " 59   ba_007  5000 non-null   int64  \n",
            " 60   ba_008  5000 non-null   int64  \n",
            " 61   ba_009  5000 non-null   int64  \n",
            " 62   bb_000  5000 non-null   int64  \n",
            " 63   bc_000  5000 non-null   int64  \n",
            " 64   bd_000  5000 non-null   int64  \n",
            " 65   be_000  5000 non-null   int64  \n",
            " 66   bf_000  5000 non-null   int64  \n",
            " 67   bg_000  5000 non-null   int64  \n",
            " 68   bh_000  5000 non-null   int64  \n",
            " 69   bi_000  5000 non-null   int64  \n",
            " 70   bj_000  5000 non-null   int64  \n",
            " 71   bk_000  5000 non-null   int64  \n",
            " 72   bl_000  5000 non-null   int64  \n",
            " 73   bm_000  5000 non-null   int64  \n",
            " 74   bn_000  5000 non-null   int64  \n",
            " 75   bo_000  5000 non-null   int64  \n",
            " 76   bp_000  5000 non-null   int64  \n",
            " 77   bq_000  5000 non-null   int64  \n",
            " 78   br_000  5000 non-null   int64  \n",
            " 79   bs_000  5000 non-null   int64  \n",
            " 80   bt_000  5000 non-null   float64\n",
            " 81   bu_000  5000 non-null   float64\n",
            " 82   bv_000  5000 non-null   float64\n",
            " 83   bx_000  5000 non-null   float64\n",
            " 84   by_000  5000 non-null   float64\n",
            " 85   bz_000  5000 non-null   float64\n",
            " 86   ca_000  5000 non-null   float64\n",
            " 87   cb_000  5000 non-null   float64\n",
            " 88   cc_000  5000 non-null   float64\n",
            " 89   cd_000  5000 non-null   float64\n",
            " 90   ce_000  5000 non-null   float64\n",
            " 91   cf_000  5000 non-null   float64\n",
            " 92   cg_000  5000 non-null   float64\n",
            " 93   ch_000  5000 non-null   float64\n",
            " 94   ci_000  5000 non-null   float64\n",
            " 95   cj_000  5000 non-null   float64\n",
            " 96   ck_000  5000 non-null   float64\n",
            " 97   cl_000  5000 non-null   float64\n",
            " 98   cm_000  5000 non-null   float64\n",
            " 99   cn_000  5000 non-null   float64\n",
            " 100  cn_001  5000 non-null   float64\n",
            " 101  cn_002  5000 non-null   float64\n",
            " 102  cn_003  5000 non-null   float64\n",
            " 103  cn_004  5000 non-null   float64\n",
            " 104  cn_005  5000 non-null   float64\n",
            " 105  cn_006  5000 non-null   float64\n",
            " 106  cn_007  5000 non-null   float64\n",
            " 107  cn_008  5000 non-null   float64\n",
            " 108  cn_009  5000 non-null   float64\n",
            " 109  co_000  5000 non-null   float64\n",
            " 110  cp_000  5000 non-null   float64\n",
            " 111  cq_000  5000 non-null   float64\n",
            " 112  cr_000  5000 non-null   float64\n",
            " 113  cs_000  5000 non-null   float64\n",
            " 114  cs_001  5000 non-null   float64\n",
            " 115  cs_002  5000 non-null   float64\n",
            " 116  cs_003  5000 non-null   float64\n",
            " 117  cs_004  5000 non-null   float64\n",
            " 118  cs_005  5000 non-null   float64\n",
            " 119  cs_006  5000 non-null   float64\n",
            " 120  cs_007  5000 non-null   float64\n",
            " 121  cs_008  5000 non-null   float64\n",
            " 122  cs_009  5000 non-null   float64\n",
            " 123  ct_000  5000 non-null   float64\n",
            " 124  cu_000  5000 non-null   float64\n",
            " 125  cv_000  5000 non-null   float64\n",
            " 126  cx_000  5000 non-null   float64\n",
            " 127  cy_000  5000 non-null   float64\n",
            " 128  cz_000  5000 non-null   float64\n",
            " 129  da_000  5000 non-null   float64\n",
            " 130  db_000  5000 non-null   float64\n",
            " 131  dc_000  5000 non-null   float64\n",
            " 132  dd_000  5000 non-null   float64\n",
            " 133  de_000  5000 non-null   float64\n",
            " 134  df_000  5000 non-null   float64\n",
            " 135  dg_000  5000 non-null   float64\n",
            " 136  dh_000  5000 non-null   float64\n",
            " 137  di_000  5000 non-null   float64\n",
            " 138  dj_000  5000 non-null   float64\n",
            " 139  dk_000  5000 non-null   float64\n",
            " 140  dl_000  5000 non-null   float64\n",
            " 141  dm_000  5000 non-null   float64\n",
            " 142  dn_000  5000 non-null   float64\n",
            " 143  do_000  5000 non-null   float64\n",
            " 144  dp_000  5000 non-null   float64\n",
            " 145  dq_000  5000 non-null   float64\n",
            " 146  dr_000  5000 non-null   float64\n",
            " 147  ds_000  5000 non-null   float64\n",
            " 148  dt_000  5000 non-null   float64\n",
            " 149  du_000  5000 non-null   float64\n",
            " 150  dv_000  5000 non-null   float64\n",
            " 151  dx_000  5000 non-null   float64\n",
            " 152  dy_000  5000 non-null   float64\n",
            " 153  dz_000  5000 non-null   float64\n",
            " 154  ea_000  5000 non-null   float64\n",
            " 155  eb_000  5000 non-null   float64\n",
            " 156  ec_00   5000 non-null   float64\n",
            " 157  ed_000  5000 non-null   float64\n",
            " 158  ee_000  5000 non-null   float64\n",
            " 159  ee_001  5000 non-null   float64\n",
            " 160  ee_002  5000 non-null   float64\n",
            " 161  ee_003  5000 non-null   float64\n",
            " 162  ee_004  5000 non-null   float64\n",
            " 163  ee_005  5000 non-null   float64\n",
            " 164  ee_006  5000 non-null   float64\n",
            " 165  ee_007  5000 non-null   float64\n",
            " 166  ee_008  5000 non-null   float64\n",
            " 167  ee_009  5000 non-null   float64\n",
            " 168  ef_000  5000 non-null   float64\n",
            " 169  eg_000  5000 non-null   float64\n",
            "dtypes: float64(90), int64(80)\n",
            "memory usage: 6.5 MB\n"
          ]
        }
      ]
    },
    {
      "cell_type": "code",
      "source": [
        "y = pd.get_dummies(y,drop_first = True)"
      ],
      "metadata": {
        "id": "6XAkicCPlPKB"
      },
      "execution_count": null,
      "outputs": []
    },
    {
      "cell_type": "code",
      "source": [
        "from sklearn.model_selection import train_test_split\n",
        "X_train , X_test , y_train , y_test = train_test_split(X,y,test_size = 0.2 , random_state = 144)"
      ],
      "metadata": {
        "id": "YpnIQ2SNsijJ"
      },
      "execution_count": null,
      "outputs": []
    },
    {
      "cell_type": "code",
      "source": [
        "print(X_train.shape,\n",
        "X_test.shape,\n",
        "y_train.shape,\n",
        "y_test.shape)"
      ],
      "metadata": {
        "colab": {
          "base_uri": "https://localhost:8080/"
        },
        "id": "b3ytP4KttQ9S",
        "outputId": "0cc81d90-a193-4418-b20b-34558a768fd2"
      },
      "execution_count": null,
      "outputs": [
        {
          "output_type": "stream",
          "name": "stdout",
          "text": [
            "(4000, 170) (1000, 170) (4000, 1) (1000, 1)\n"
          ]
        }
      ]
    },
    {
      "cell_type": "code",
      "source": [
        "from sklearn.preprocessing import StandardScaler\n",
        "sc = StandardScaler()\n",
        "X_train = sc.fit_transform(X_train)\n",
        "X_test = sc.transform(X_test)"
      ],
      "metadata": {
        "id": "Woymhxl-thWI"
      },
      "execution_count": null,
      "outputs": []
    },
    {
      "cell_type": "code",
      "source": [
        "import tensorflow.keras\n",
        "from tensorflow.keras.models import Sequential\n",
        "from tensorflow.keras.layers import Dense\n",
        "from tensorflow.keras.layers import Dropout"
      ],
      "metadata": {
        "id": "7A6FNTgouZHL"
      },
      "execution_count": null,
      "outputs": []
    },
    {
      "cell_type": "code",
      "source": [
        "classifier = Sequential()\n",
        "classifier.add(Dense(units = 10 , kernel_initializer = 'he_uniform',activation = 'relu',input_dim = 170 ))\n",
        "classifier.add(Dense(units = 10 , kernel_initializer = 'he_uniform',activation = 'relu'))\n",
        "classifier.add(Dense(units = 1 , kernel_initializer = 'glorot_uniform',activation = 'sigmoid'))"
      ],
      "metadata": {
        "id": "uXQFoMchvisW"
      },
      "execution_count": null,
      "outputs": []
    },
    {
      "cell_type": "code",
      "source": [
        "classifier.compile(optimizer = 'adam', loss = 'binary_crossentropy',metrics=['accuracy'])"
      ],
      "metadata": {
        "id": "WuD70BL7xvOJ"
      },
      "execution_count": null,
      "outputs": []
    },
    {
      "cell_type": "code",
      "source": [
        "classifier.summary()"
      ],
      "metadata": {
        "colab": {
          "base_uri": "https://localhost:8080/"
        },
        "id": "SHv0NpTlyxjZ",
        "outputId": "1314c677-064b-481b-8e1d-5ed1ec034dc0"
      },
      "execution_count": null,
      "outputs": [
        {
          "output_type": "stream",
          "name": "stdout",
          "text": [
            "Model: \"sequential_3\"\n",
            "_________________________________________________________________\n",
            " Layer (type)                Output Shape              Param #   \n",
            "=================================================================\n",
            " dense_5 (Dense)             (None, 10)                1710      \n",
            "                                                                 \n",
            " dense_6 (Dense)             (None, 10)                110       \n",
            "                                                                 \n",
            " dense_7 (Dense)             (None, 1)                 11        \n",
            "                                                                 \n",
            "=================================================================\n",
            "Total params: 1,831\n",
            "Trainable params: 1,831\n",
            "Non-trainable params: 0\n",
            "_________________________________________________________________\n"
          ]
        }
      ]
    },
    {
      "cell_type": "code",
      "source": [
        "model_history=classifier.fit(X_train,y_train,batch_size=10,epochs=30,validation_split=0.25)"
      ],
      "metadata": {
        "colab": {
          "base_uri": "https://localhost:8080/"
        },
        "id": "jA7KmNKLy7ow",
        "outputId": "b0297d23-c1f9-42c2-9643-2a6b4c0f7f2e"
      },
      "execution_count": null,
      "outputs": [
        {
          "output_type": "stream",
          "name": "stdout",
          "text": [
            "Epoch 1/30\n",
            "300/300 [==============================] - 4s 3ms/step - loss: 0.3511 - accuracy: 0.8900 - val_loss: 0.1068 - val_accuracy: 0.9830\n",
            "Epoch 2/30\n",
            "300/300 [==============================] - 1s 3ms/step - loss: 0.0755 - accuracy: 0.9827 - val_loss: 0.0709 - val_accuracy: 0.9850\n",
            "Epoch 3/30\n",
            "300/300 [==============================] - 1s 3ms/step - loss: 0.0479 - accuracy: 0.9880 - val_loss: 0.0509 - val_accuracy: 0.9890\n",
            "Epoch 4/30\n",
            "300/300 [==============================] - 1s 3ms/step - loss: 0.0352 - accuracy: 0.9913 - val_loss: 0.0568 - val_accuracy: 0.9870\n",
            "Epoch 5/30\n",
            "300/300 [==============================] - 1s 3ms/step - loss: 0.0297 - accuracy: 0.9913 - val_loss: 0.0502 - val_accuracy: 0.9870\n",
            "Epoch 6/30\n",
            "300/300 [==============================] - 1s 3ms/step - loss: 0.0250 - accuracy: 0.9940 - val_loss: 0.0500 - val_accuracy: 0.9880\n",
            "Epoch 7/30\n",
            "300/300 [==============================] - 1s 3ms/step - loss: 0.0213 - accuracy: 0.9943 - val_loss: 0.0515 - val_accuracy: 0.9860\n",
            "Epoch 8/30\n",
            "300/300 [==============================] - 1s 3ms/step - loss: 0.0185 - accuracy: 0.9957 - val_loss: 0.0505 - val_accuracy: 0.9850\n",
            "Epoch 9/30\n",
            "300/300 [==============================] - 1s 3ms/step - loss: 0.0170 - accuracy: 0.9950 - val_loss: 0.0520 - val_accuracy: 0.9850\n",
            "Epoch 10/30\n",
            "300/300 [==============================] - 1s 3ms/step - loss: 0.0163 - accuracy: 0.9940 - val_loss: 0.0546 - val_accuracy: 0.9860\n",
            "Epoch 11/30\n",
            "300/300 [==============================] - 1s 3ms/step - loss: 0.0133 - accuracy: 0.9963 - val_loss: 0.0535 - val_accuracy: 0.9850\n",
            "Epoch 12/30\n",
            "300/300 [==============================] - 1s 3ms/step - loss: 0.0127 - accuracy: 0.9967 - val_loss: 0.0728 - val_accuracy: 0.9870\n",
            "Epoch 13/30\n",
            "300/300 [==============================] - 1s 3ms/step - loss: 0.0143 - accuracy: 0.9950 - val_loss: 0.0655 - val_accuracy: 0.9890\n",
            "Epoch 14/30\n",
            "300/300 [==============================] - 1s 3ms/step - loss: 0.0120 - accuracy: 0.9963 - val_loss: 0.0601 - val_accuracy: 0.9880\n",
            "Epoch 15/30\n",
            "300/300 [==============================] - 1s 3ms/step - loss: 0.0100 - accuracy: 0.9977 - val_loss: 0.0667 - val_accuracy: 0.9860\n",
            "Epoch 16/30\n",
            "300/300 [==============================] - 1s 3ms/step - loss: 0.0159 - accuracy: 0.9953 - val_loss: 0.0623 - val_accuracy: 0.9850\n",
            "Epoch 17/30\n",
            "300/300 [==============================] - 1s 3ms/step - loss: 0.0134 - accuracy: 0.9960 - val_loss: 0.0726 - val_accuracy: 0.9880\n",
            "Epoch 18/30\n",
            "300/300 [==============================] - 1s 3ms/step - loss: 0.0104 - accuracy: 0.9967 - val_loss: 0.0597 - val_accuracy: 0.9880\n",
            "Epoch 19/30\n",
            "300/300 [==============================] - 1s 3ms/step - loss: 0.0074 - accuracy: 0.9983 - val_loss: 0.0780 - val_accuracy: 0.9880\n",
            "Epoch 20/30\n",
            "300/300 [==============================] - 1s 3ms/step - loss: 0.0064 - accuracy: 0.9987 - val_loss: 0.0958 - val_accuracy: 0.9860\n",
            "Epoch 21/30\n",
            "300/300 [==============================] - 1s 3ms/step - loss: 0.0067 - accuracy: 0.9977 - val_loss: 0.0897 - val_accuracy: 0.9860\n",
            "Epoch 22/30\n",
            "300/300 [==============================] - 1s 3ms/step - loss: 0.0060 - accuracy: 0.9983 - val_loss: 0.0879 - val_accuracy: 0.9860\n",
            "Epoch 23/30\n",
            "300/300 [==============================] - 1s 3ms/step - loss: 0.0065 - accuracy: 0.9977 - val_loss: 0.0786 - val_accuracy: 0.9840\n",
            "Epoch 24/30\n",
            "300/300 [==============================] - 1s 3ms/step - loss: 0.0052 - accuracy: 0.9987 - val_loss: 0.0955 - val_accuracy: 0.9850\n",
            "Epoch 25/30\n",
            "300/300 [==============================] - 1s 3ms/step - loss: 0.0048 - accuracy: 0.9990 - val_loss: 0.1026 - val_accuracy: 0.9840\n",
            "Epoch 26/30\n",
            "300/300 [==============================] - 1s 3ms/step - loss: 0.0045 - accuracy: 0.9990 - val_loss: 0.0959 - val_accuracy: 0.9840\n",
            "Epoch 27/30\n",
            "300/300 [==============================] - 1s 3ms/step - loss: 0.0085 - accuracy: 0.9970 - val_loss: 0.1112 - val_accuracy: 0.9840\n",
            "Epoch 28/30\n",
            "300/300 [==============================] - 1s 3ms/step - loss: 0.0087 - accuracy: 0.9980 - val_loss: 0.0941 - val_accuracy: 0.9850\n",
            "Epoch 29/30\n",
            "300/300 [==============================] - 1s 3ms/step - loss: 0.0050 - accuracy: 0.9990 - val_loss: 0.0865 - val_accuracy: 0.9840\n",
            "Epoch 30/30\n",
            "300/300 [==============================] - 1s 3ms/step - loss: 0.0038 - accuracy: 0.9993 - val_loss: 0.0939 - val_accuracy: 0.9830\n"
          ]
        }
      ]
    },
    {
      "cell_type": "code",
      "source": [
        "model_history.history.keys()"
      ],
      "metadata": {
        "colab": {
          "base_uri": "https://localhost:8080/"
        },
        "id": "Uc7FVLZNzQql",
        "outputId": "a8793442-b621-4130-95cf-132439495717"
      },
      "execution_count": null,
      "outputs": [
        {
          "output_type": "execute_result",
          "data": {
            "text/plain": [
              "dict_keys(['loss', 'accuracy', 'val_loss', 'val_accuracy'])"
            ]
          },
          "metadata": {},
          "execution_count": 116
        }
      ]
    },
    {
      "cell_type": "code",
      "source": [
        "model_history.history['accuracy']"
      ],
      "metadata": {
        "colab": {
          "base_uri": "https://localhost:8080/"
        },
        "id": "zRLGRBpS5HCo",
        "outputId": "12e63f3c-7cdb-4877-9364-61baf41c7990"
      },
      "execution_count": null,
      "outputs": [
        {
          "output_type": "execute_result",
          "data": {
            "text/plain": [
              "[0.8899999856948853,\n",
              " 0.9826666712760925,\n",
              " 0.9879999756813049,\n",
              " 0.9913333058357239,\n",
              " 0.9913333058357239,\n",
              " 0.9940000176429749,\n",
              " 0.9943333268165588,\n",
              " 0.9956666827201843,\n",
              " 0.9950000047683716,\n",
              " 0.9940000176429749,\n",
              " 0.9963333606719971,\n",
              " 0.996666669845581,\n",
              " 0.9950000047683716,\n",
              " 0.9963333606719971,\n",
              " 0.9976666569709778,\n",
              " 0.9953333139419556,\n",
              " 0.9959999918937683,\n",
              " 0.996666669845581,\n",
              " 0.9983333349227905,\n",
              " 0.9986666440963745,\n",
              " 0.9976666569709778,\n",
              " 0.9983333349227905,\n",
              " 0.9976666569709778,\n",
              " 0.9986666440963745,\n",
              " 0.9990000128746033,\n",
              " 0.9990000128746033,\n",
              " 0.996999979019165,\n",
              " 0.9980000257492065,\n",
              " 0.9990000128746033,\n",
              " 0.9993333220481873]"
            ]
          },
          "metadata": {},
          "execution_count": 117
        }
      ]
    },
    {
      "cell_type": "code",
      "source": [
        "print(model_history.history.keys())\n",
        "# summarize history for accuracy\n",
        "plt.plot(model_history.history['accuracy'])\n",
        "plt.plot(model_history.history['val_accuracy'])\n",
        "plt.title('model accuracy')\n",
        "plt.ylabel('accuracy')\n",
        "plt.xlabel('epoch')\n",
        "plt.legend(['train', 'test'], loc='upper left')\n",
        "plt.show()"
      ],
      "metadata": {
        "colab": {
          "base_uri": "https://localhost:8080/",
          "height": 313
        },
        "id": "d_nuoeUx5Opt",
        "outputId": "2c1c298e-2bc4-4518-9836-fa35451abb2b"
      },
      "execution_count": null,
      "outputs": [
        {
          "output_type": "stream",
          "name": "stdout",
          "text": [
            "dict_keys(['loss', 'accuracy', 'val_loss', 'val_accuracy'])\n"
          ]
        },
        {
          "output_type": "display_data",
          "data": {
            "text/plain": [
              "<Figure size 432x288 with 1 Axes>"
            ],
            "image/png": "[encoded data removed]"
          },
          "metadata": {
            "needs_background": "light"
          }
        }
      ]
    },
    {
      "cell_type": "code",
      "source": [
        "# summarize history for accuracy\n",
        "plt.plot(model_history.history['loss'])\n",
        "plt.plot(model_history.history['val_loss'])\n",
        "plt.title('model accuracy')\n",
        "plt.ylabel('loss')\n",
        "plt.xlabel('epoch')\n",
        "plt.legend(['train', 'test'], loc='upper left')\n",
        "plt.show()"
      ],
      "metadata": {
        "colab": {
          "base_uri": "https://localhost:8080/",
          "height": 295
        },
        "id": "wrwbni8e5Ycu",
        "outputId": "508fb325-269b-4ff7-cb8f-34e48cac4a88"
      },
      "execution_count": null,
      "outputs": [
        {
          "output_type": "display_data",
          "data": {
            "text/plain": [
              "<Figure size 432x288 with 1 Axes>"
            ],
            "image/png": "[encoded data removed]"
          },
          "metadata": {
            "needs_background": "light"
          }
        }
      ]
    },
    {
      "cell_type": "code",
      "source": [
        "y_pred = classifier.predict(X_test)"
      ],
      "metadata": {
        "colab": {
          "base_uri": "https://localhost:8080/"
        },
        "id": "uthl4reZ5gpL",
        "outputId": "cb8e18d4-1d8d-4c3c-edd4-56e3f828b271"
      },
      "execution_count": null,
      "outputs": [
        {
          "output_type": "stream",
          "name": "stdout",
          "text": [
            "32/32 [==============================] - 0s 2ms/step\n"
          ]
        }
      ]
    },
    {
      "cell_type": "code",
      "source": [
        "y_pred = y_pred>0.5"
      ],
      "metadata": {
        "id": "9Z5ctifY5uxZ"
      },
      "execution_count": null,
      "outputs": []
    },
    {
      "cell_type": "code",
      "source": [
        "from sklearn.metrics import confusion_matrix"
      ],
      "metadata": {
        "id": "y3icndDi56TY"
      },
      "execution_count": null,
      "outputs": []
    },
    {
      "cell_type": "code",
      "source": [
        "confusion_matrix(y_test,y_pred)"
      ],
      "metadata": {
        "colab": {
          "base_uri": "https://localhost:8080/"
        },
        "id": "LgEXAXHe58TO",
        "outputId": "ccb66c26-d4be-408e-a1ba-420a18d87974"
      },
      "execution_count": null,
      "outputs": [
        {
          "output_type": "execute_result",
          "data": {
            "text/plain": [
              "array([[978,  10],\n",
              "       [  8,   4]])"
            ]
          },
          "metadata": {},
          "execution_count": 128
        }
      ]
    },
    {
      "cell_type": "code",
      "source": [
        "import time\n",
        "import os\n",
        "\n",
        "def saveModel_path(model_dir=\"SAVED_MODELS\"):\n",
        "    os.makedirs(model_dir, exist_ok=True)\n",
        "    fileName = time.strftime(\"Model_%Y_%m_%d_%H_%M_%S_.h5\")    \n",
        "    model_path = os.path.join(model_dir, fileName)\n",
        "    print(f\"your model will be saved at the following location\\n{model_path}\")\n",
        "    return model_path"
      ],
      "metadata": {
        "id": "gTGJ0I0S6W0u"
      },
      "execution_count": null,
      "outputs": []
    },
    {
      "cell_type": "code",
      "source": [
        "classifier.save(saveModel_path())"
      ],
      "metadata": {
        "colab": {
          "base_uri": "https://localhost:8080/"
        },
        "id": "ODY3zyS26pnS",
        "outputId": "cc1ca3e7-e7ef-459a-d544-a8a2254c0dc8"
      },
      "execution_count": null,
      "outputs": [
        {
          "output_type": "stream",
          "name": "stdout",
          "text": [
            "your model will be saved at the following location\n",
            "SAVED_MODELS/Model_2023_01_24_13_16_06_.h5\n"
          ]
        }
      ]
    },
    {
      "cell_type": "code",
      "source": [
        "#hyperparameter tunig with keras tuner\n",
        "\n",
        "!pip install keras-tuner --upgrade"
      ],
      "metadata": {
        "colab": {
          "base_uri": "https://localhost:8080/"
        },
        "id": "awXEu1E67VRh",
        "outputId": "cb52f68a-61f0-4fb6-e39c-54ef8f37c95b"
      },
      "execution_count": null,
      "outputs": [
        {
          "output_type": "stream",
          "name": "stdout",
          "text": [
            "Looking in indexes: https://pypi.org/simple, https://us-python.pkg.dev/colab-wheels/public/simple/\n",
            "Collecting keras-tuner\n",
            "  Downloading keras_tuner-1.1.3-py3-none-any.whl (135 kB)\n",
            "\u001b[2K     \u001b[90m━━━━━━━━━━━━━━━━━━━━━━━━━━━━━━━━━━━━━━\u001b[0m \u001b[32m135.7/135.7 KB\u001b[0m \u001b[31m13.9 MB/s\u001b[0m eta \u001b[36m0:00:00\u001b[0m\n",
            "\u001b[?25hRequirement already satisfied: numpy in /usr/local/lib/python3.8/dist-packages (from keras-tuner) (1.21.6)\n",
            "Requirement already satisfied: packaging in /usr/local/lib/python3.8/dist-packages (from keras-tuner) (21.3)\n",
            "Requirement already satisfied: ipython in /usr/local/lib/python3.8/dist-packages (from keras-tuner) (7.9.0)\n",
            "Collecting kt-legacy\n",
            "  Downloading kt_legacy-1.0.4-py3-none-any.whl (9.6 kB)\n",
            "Requirement already satisfied: tensorboard in /usr/local/lib/python3.8/dist-packages (from keras-tuner) (2.9.1)\n",
            "Requirement already satisfied: requests in /usr/local/lib/python3.8/dist-packages (from keras-tuner) (2.25.1)\n",
            "Requirement already satisfied: traitlets>=4.2 in /usr/local/lib/python3.8/dist-packages (from ipython->keras-tuner) (5.7.1)\n",
            "Requirement already satisfied: prompt-toolkit<2.1.0,>=2.0.0 in /usr/local/lib/python3.8/dist-packages (from ipython->keras-tuner) (2.0.10)\n",
            "Requirement already satisfied: backcall in /usr/local/lib/python3.8/dist-packages (from ipython->keras-tuner) (0.2.0)\n",
            "Requirement already satisfied: setuptools>=18.5 in /usr/local/lib/python3.8/dist-packages (from ipython->keras-tuner) (57.4.0)\n",
            "Requirement already satisfied: pickleshare in /usr/local/lib/python3.8/dist-packages (from ipython->keras-tuner) (0.7.5)\n",
            "Requirement already satisfied: pexpect in /usr/local/lib/python3.8/dist-packages (from ipython->keras-tuner) (4.8.0)\n",
            "Collecting jedi>=0.10\n",
            "  Downloading jedi-0.18.2-py2.py3-none-any.whl (1.6 MB)\n",
            "\u001b[2K     \u001b[90m━━━━━━━━━━━━━━━━━━━━━━━━━━━━━━━━━━━━━━━━\u001b[0m \u001b[32m1.6/1.6 MB\u001b[0m \u001b[31m72.4 MB/s\u001b[0m eta \u001b[36m0:00:00\u001b[0m\n",
            "\u001b[?25hRequirement already satisfied: decorator in /usr/local/lib/python3.8/dist-packages (from ipython->keras-tuner) (4.4.2)\n",
            "Requirement already satisfied: pygments in /usr/local/lib/python3.8/dist-packages (from ipython->keras-tuner) (2.6.1)\n",
            "Requirement already satisfied: pyparsing!=3.0.5,>=2.0.2 in /usr/local/lib/python3.8/dist-packages (from packaging->keras-tuner) (3.0.9)\n",
            "Requirement already satisfied: certifi>=2017.4.17 in /usr/local/lib/python3.8/dist-packages (from requests->keras-tuner) (2022.12.7)\n",
            "Requirement already satisfied: urllib3<1.27,>=1.21.1 in /usr/local/lib/python3.8/dist-packages (from requests->keras-tuner) (1.24.3)\n",
            "Requirement already satisfied: idna<3,>=2.5 in /usr/local/lib/python3.8/dist-packages (from requests->keras-tuner) (2.10)\n",
            "Requirement already satisfied: chardet<5,>=3.0.2 in /usr/local/lib/python3.8/dist-packages (from requests->keras-tuner) (4.0.0)\n",
            "Requirement already satisfied: protobuf<3.20,>=3.9.2 in /usr/local/lib/python3.8/dist-packages (from tensorboard->keras-tuner) (3.19.6)\n",
            "Requirement already satisfied: grpcio>=1.24.3 in /usr/local/lib/python3.8/dist-packages (from tensorboard->keras-tuner) (1.51.1)\n",
            "Requirement already satisfied: tensorboard-data-server<0.7.0,>=0.6.0 in /usr/local/lib/python3.8/dist-packages (from tensorboard->keras-tuner) (0.6.1)\n",
            "Requirement already satisfied: wheel>=0.26 in /usr/local/lib/python3.8/dist-packages (from tensorboard->keras-tuner) (0.38.4)\n",
            "Requirement already satisfied: markdown>=2.6.8 in /usr/local/lib/python3.8/dist-packages (from tensorboard->keras-tuner) (3.4.1)\n",
            "Requirement already satisfied: werkzeug>=1.0.1 in /usr/local/lib/python3.8/dist-packages (from tensorboard->keras-tuner) (1.0.1)\n",
            "Requirement already satisfied: google-auth-oauthlib<0.5,>=0.4.1 in /usr/local/lib/python3.8/dist-packages (from tensorboard->keras-tuner) (0.4.6)\n",
            "Requirement already satisfied: tensorboard-plugin-wit>=1.6.0 in /usr/local/lib/python3.8/dist-packages (from tensorboard->keras-tuner) (1.8.1)\n",
            "Requirement already satisfied: absl-py>=0.4 in /usr/local/lib/python3.8/dist-packages (from tensorboard->keras-tuner) (1.3.0)\n",
            "Requirement already satisfied: google-auth<3,>=1.6.3 in /usr/local/lib/python3.8/dist-packages (from tensorboard->keras-tuner) (2.16.0)\n",
            "Requirement already satisfied: six>=1.9.0 in /usr/local/lib/python3.8/dist-packages (from google-auth<3,>=1.6.3->tensorboard->keras-tuner) (1.15.0)\n",
            "Requirement already satisfied: pyasn1-modules>=0.2.1 in /usr/local/lib/python3.8/dist-packages (from google-auth<3,>=1.6.3->tensorboard->keras-tuner) (0.2.8)\n",
            "Requirement already satisfied: rsa<5,>=3.1.4 in /usr/local/lib/python3.8/dist-packages (from google-auth<3,>=1.6.3->tensorboard->keras-tuner) (4.9)\n",
            "Requirement already satisfied: cachetools<6.0,>=2.0.0 in /usr/local/lib/python3.8/dist-packages (from google-auth<3,>=1.6.3->tensorboard->keras-tuner) (5.2.1)\n",
            "Requirement already satisfied: requests-oauthlib>=0.7.0 in /usr/local/lib/python3.8/dist-packages (from google-auth-oauthlib<0.5,>=0.4.1->tensorboard->keras-tuner) (1.3.1)\n",
            "Requirement already satisfied: parso<0.9.0,>=0.8.0 in /usr/local/lib/python3.8/dist-packages (from jedi>=0.10->ipython->keras-tuner) (0.8.3)\n",
            "Requirement already satisfied: importlib-metadata>=4.4 in /usr/local/lib/python3.8/dist-packages (from markdown>=2.6.8->tensorboard->keras-tuner) (6.0.0)\n",
            "Requirement already satisfied: wcwidth in /usr/local/lib/python3.8/dist-packages (from prompt-toolkit<2.1.0,>=2.0.0->ipython->keras-tuner) (0.2.5)\n",
            "Requirement already satisfied: ptyprocess>=0.5 in /usr/local/lib/python3.8/dist-packages (from pexpect->ipython->keras-tuner) (0.7.0)\n",
            "Requirement already satisfied: zipp>=0.5 in /usr/local/lib/python3.8/dist-packages (from importlib-metadata>=4.4->markdown>=2.6.8->tensorboard->keras-tuner) (3.11.0)\n",
            "Requirement already satisfied: pyasn1<0.5.0,>=0.4.6 in /usr/local/lib/python3.8/dist-packages (from pyasn1-modules>=0.2.1->google-auth<3,>=1.6.3->tensorboard->keras-tuner) (0.4.8)\n",
            "Requirement already satisfied: oauthlib>=3.0.0 in /usr/local/lib/python3.8/dist-packages (from requests-oauthlib>=0.7.0->google-auth-oauthlib<0.5,>=0.4.1->tensorboard->keras-tuner) (3.2.2)\n",
            "Installing collected packages: kt-legacy, jedi, keras-tuner\n",
            "Successfully installed jedi-0.18.2 keras-tuner-1.1.3 kt-legacy-1.0.4\n"
          ]
        }
      ]
    },
    {
      "cell_type": "code",
      "source": [
        "from kerastuner.tuners import RandomSearch"
      ],
      "metadata": {
        "colab": {
          "base_uri": "https://localhost:8080/"
        },
        "id": "Ne6_DPEu7VqF",
        "outputId": "afe923f9-4d8c-452f-d3fc-94ab2680b914"
      },
      "execution_count": null,
      "outputs": [
        {
          "output_type": "stream",
          "name": "stderr",
          "text": [
            "<ipython-input-132-94471a811b41>:1: DeprecationWarning: `import kerastuner` is deprecated, please use `import keras_tuner`.\n",
            "  from kerastuner.tuners import RandomSearch\n"
          ]
        }
      ]
    },
    {
      "cell_type": "code",
      "source": [
        "def build_model(hp):\n",
        "  model = Sequential()\n",
        "  model.add(Dense(units=32,kernel_initializer = 'he_uniform',input_dim=170))\n",
        "  model.add(Dense(units=32 , kernel_initializer = 'he_uniform',activation='relu'))\n",
        "  model.add(Dense(1,activation='sigmoid'))\n",
        "  optimizer = hp.Choice(\"optimizer\" , values = ['adam','sgd','rmsprop','adadelta'])\n",
        "  model.compile(optimizer= optimizer , loss = 'binary_crossentropy',metrics = ['accuracy'])\n",
        "  return model"
      ],
      "metadata": {
        "id": "Hw1KXKnY7VtD"
      },
      "execution_count": null,
      "outputs": []
    },
    {
      "cell_type": "code",
      "source": [
        "tuner = RandomSearch(build_model , objective='val_accuracy',max_trials=5,directory='project1',project_name='aps_fault')"
      ],
      "metadata": {
        "id": "FkRM60KW7Vwt"
      },
      "execution_count": null,
      "outputs": []
    },
    {
      "cell_type": "code",
      "source": [
        "tuner.search(X_train,y_train,validation_data=(X_test,y_test),epochs=5)"
      ],
      "metadata": {
        "id": "jiSwg8G_-bd8"
      },
      "execution_count": null,
      "outputs": []
    },
    {
      "cell_type": "code",
      "source": [
        "tuner.get_best_hyperparameters()[0].values"
      ],
      "metadata": {
        "colab": {
          "base_uri": "https://localhost:8080/"
        },
        "id": "NHZOCNMc-9FZ",
        "outputId": "c6c25f93-bad4-4c7e-b8a2-ca9533c986fd"
      },
      "execution_count": null,
      "outputs": [
        {
          "output_type": "execute_result",
          "data": {
            "text/plain": [
              "{'optimizer': 'rmsprop'}"
            ]
          },
          "metadata": {},
          "execution_count": 142
        }
      ]
    },
    {
      "cell_type": "code",
      "source": [
        "mymodel= tuner.get_best_models(num_models=1)[0]"
      ],
      "metadata": {
        "id": "ngR4mFYr_SAQ"
      },
      "execution_count": null,
      "outputs": []
    },
    {
      "cell_type": "code",
      "source": [
        "mymodel.summary()"
      ],
      "metadata": {
        "colab": {
          "base_uri": "https://localhost:8080/"
        },
        "id": "m5ZPgdsm_zTn",
        "outputId": "3572bdb3-f6e2-4c8d-b8c7-8a66e3fcc728"
      },
      "execution_count": null,
      "outputs": [
        {
          "output_type": "stream",
          "name": "stdout",
          "text": [
            "Model: \"sequential\"\n",
            "_________________________________________________________________\n",
            " Layer (type)                Output Shape              Param #   \n",
            "=================================================================\n",
            " dense (Dense)               (None, 32)                5472      \n",
            "                                                                 \n",
            " dense_1 (Dense)             (None, 32)                1056      \n",
            "                                                                 \n",
            " dense_2 (Dense)             (None, 1)                 33        \n",
            "                                                                 \n",
            "=================================================================\n",
            "Total params: 6,561\n",
            "Trainable params: 6,561\n",
            "Non-trainable params: 0\n",
            "_________________________________________________________________\n"
          ]
        }
      ]
    },
    {
      "cell_type": "code",
      "source": [
        "from tensorflow.keras import optimizers\n",
        "def build_model(hp):\n",
        "  model=Sequential()\n",
        "  model.add(Dense(units=32,kernel_initializer = 'he_uniform',activation='relu',input_dim=170))\n",
        "  for i in range(hp.Int('num_layers',2,20)):\n",
        "    model.add(Dense(units= hp.Int('units_'+str(i),min_value=32,max_value=512,step=32),activation='relu'))\n",
        "    model.add(Dense(units=1,activation='sigmoid'))\n",
        "    model.compile(optimizer=optimizers.Adam(hp.Choice('learning_rate',[1e-2,1e-3,1e-4])),\n",
        "                  loss='binary_crossentropy',metrics=['accuracy'])\n",
        "    return model"
      ],
      "metadata": {
        "id": "9n2DYA5P_2iz"
      },
      "execution_count": null,
      "outputs": []
    },
    {
      "cell_type": "code",
      "source": [
        "tuner_second = RandomSearch(build_model,objective='val_accuracy',max_trials = 5, directory='project3',project_name='aps_fault_sensor')"
      ],
      "metadata": {
        "id": "NxfTmNiuC9cV"
      },
      "execution_count": null,
      "outputs": []
    },
    {
      "cell_type": "code",
      "source": [
        "tuner_second.search(X_train,y_train,epochs=5,validation_data=(X_test,y_test))"
      ],
      "metadata": {
        "colab": {
          "base_uri": "https://localhost:8080/"
        },
        "id": "Ck4BZ28bDdY8",
        "outputId": "5de0eef0-c600-4591-b115-71d17fdd76e0"
      },
      "execution_count": null,
      "outputs": [
        {
          "output_type": "stream",
          "name": "stdout",
          "text": [
            "Trial 5 Complete [00h 00m 03s]\n",
            "val_accuracy: 0.9940000176429749\n",
            "\n",
            "Best val_accuracy So Far: 0.9940000176429749\n",
            "Total elapsed time: 00h 00m 16s\n"
          ]
        }
      ]
    },
    {
      "cell_type": "code",
      "source": [
        "tuner_second.get_best_hyperparameters()[0].values"
      ],
      "metadata": {
        "colab": {
          "base_uri": "https://localhost:8080/"
        },
        "id": "s6hz-JqnDyAk",
        "outputId": "85389702-4d41-4df7-c21a-d16e17e16522"
      },
      "execution_count": null,
      "outputs": [
        {
          "output_type": "execute_result",
          "data": {
            "text/plain": [
              "{'num_layers': 6, 'units_0': 256, 'learning_rate': 0.001}"
            ]
          },
          "metadata": {},
          "execution_count": 149
        }
      ]
    },
    {
      "cell_type": "code",
      "source": [
        "classifier2=tuner_second.get_best_models(num_models=1)[0]"
      ],
      "metadata": {
        "id": "Y22ANvE4EGIa"
      },
      "execution_count": null,
      "outputs": []
    },
    {
      "cell_type": "code",
      "source": [
        "classifier2.summary()"
      ],
      "metadata": {
        "colab": {
          "base_uri": "https://localhost:8080/"
        },
        "id": "3AtGx3b0Ezhs",
        "outputId": "6c7928cc-5390-4b6f-d38e-125ff88b6be1"
      },
      "execution_count": null,
      "outputs": [
        {
          "output_type": "stream",
          "name": "stdout",
          "text": [
            "Model: \"sequential\"\n",
            "_________________________________________________________________\n",
            " Layer (type)                Output Shape              Param #   \n",
            "=================================================================\n",
            " dense (Dense)               (None, 32)                5472      \n",
            "                                                                 \n",
            " dense_1 (Dense)             (None, 256)               8448      \n",
            "                                                                 \n",
            " dense_2 (Dense)             (None, 1)                 257       \n",
            "                                                                 \n",
            "=================================================================\n",
            "Total params: 14,177\n",
            "Trainable params: 14,177\n",
            "Non-trainable params: 0\n",
            "_________________________________________________________________\n"
          ]
        }
      ]
    },
    {
      "cell_type": "code",
      "source": [],
      "metadata": {
        "id": "VBLNqO68FB7W"
      },
      "execution_count": null,
      "outputs": []
    }
  ]
}